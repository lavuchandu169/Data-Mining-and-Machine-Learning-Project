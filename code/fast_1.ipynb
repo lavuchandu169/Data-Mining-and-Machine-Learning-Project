{
  "nbformat": 4,
  "nbformat_minor": 0,
  "metadata": {
    "colab": {
      "provenance": []
    },
    "kernelspec": {
      "name": "python3",
      "display_name": "Python 3"
    },
    "language_info": {
      "name": "python"
    }
  },
  "cells": [
    {
      "cell_type": "code",
      "execution_count": 1,
      "metadata": {
        "colab": {
          "base_uri": "https://localhost:8080/"
        },
        "id": "_ECs1UmUOp3v",
        "outputId": "28f73d07-1ace-4adf-9fb8-1cf12c75b62d"
      },
      "outputs": [
        {
          "output_type": "stream",
          "name": "stdout",
          "text": [
            "Requirement already satisfied: pandas in /usr/local/lib/python3.10/dist-packages (2.2.2)\n",
            "Requirement already satisfied: numpy in /usr/local/lib/python3.10/dist-packages (1.26.4)\n",
            "Requirement already satisfied: matplotlib in /usr/local/lib/python3.10/dist-packages (3.8.0)\n",
            "Requirement already satisfied: seaborn in /usr/local/lib/python3.10/dist-packages (0.13.2)\n",
            "Requirement already satisfied: scikit-learn in /usr/local/lib/python3.10/dist-packages (1.5.2)\n",
            "Requirement already satisfied: openpyxl in /usr/local/lib/python3.10/dist-packages (3.1.5)\n",
            "Requirement already satisfied: python-dateutil>=2.8.2 in /usr/local/lib/python3.10/dist-packages (from pandas) (2.8.2)\n",
            "Requirement already satisfied: pytz>=2020.1 in /usr/local/lib/python3.10/dist-packages (from pandas) (2024.2)\n",
            "Requirement already satisfied: tzdata>=2022.7 in /usr/local/lib/python3.10/dist-packages (from pandas) (2024.2)\n",
            "Requirement already satisfied: contourpy>=1.0.1 in /usr/local/lib/python3.10/dist-packages (from matplotlib) (1.3.1)\n",
            "Requirement already satisfied: cycler>=0.10 in /usr/local/lib/python3.10/dist-packages (from matplotlib) (0.12.1)\n",
            "Requirement already satisfied: fonttools>=4.22.0 in /usr/local/lib/python3.10/dist-packages (from matplotlib) (4.55.3)\n",
            "Requirement already satisfied: kiwisolver>=1.0.1 in /usr/local/lib/python3.10/dist-packages (from matplotlib) (1.4.7)\n",
            "Requirement already satisfied: packaging>=20.0 in /usr/local/lib/python3.10/dist-packages (from matplotlib) (24.2)\n",
            "Requirement already satisfied: pillow>=6.2.0 in /usr/local/lib/python3.10/dist-packages (from matplotlib) (11.0.0)\n",
            "Requirement already satisfied: pyparsing>=2.3.1 in /usr/local/lib/python3.10/dist-packages (from matplotlib) (3.2.0)\n",
            "Requirement already satisfied: scipy>=1.6.0 in /usr/local/lib/python3.10/dist-packages (from scikit-learn) (1.13.1)\n",
            "Requirement already satisfied: joblib>=1.2.0 in /usr/local/lib/python3.10/dist-packages (from scikit-learn) (1.4.2)\n",
            "Requirement already satisfied: threadpoolctl>=3.1.0 in /usr/local/lib/python3.10/dist-packages (from scikit-learn) (3.5.0)\n",
            "Requirement already satisfied: et-xmlfile in /usr/local/lib/python3.10/dist-packages (from openpyxl) (2.0.0)\n",
            "Requirement already satisfied: six>=1.5 in /usr/local/lib/python3.10/dist-packages (from python-dateutil>=2.8.2->pandas) (1.17.0)\n"
          ]
        }
      ],
      "source": [
        "!pip install pandas numpy matplotlib seaborn scikit-learn openpyxl"
      ]
    },
    {
      "cell_type": "code",
      "source": [
        "# Import necessary library for file upload\n",
        "from google.colab import files\n",
        "import pandas as pd\n",
        "\n",
        "# Upload the file\n",
        "uploaded = files.upload()\n"
      ],
      "metadata": {
        "colab": {
          "base_uri": "https://localhost:8080/",
          "height": 74
        },
        "id": "cwFelMNJPMRC",
        "outputId": "97e9ae5e-18c1-41ab-edf1-05538ebd365f"
      },
      "execution_count": 2,
      "outputs": [
        {
          "output_type": "display_data",
          "data": {
            "text/plain": [
              "<IPython.core.display.HTML object>"
            ],
            "text/html": [
              "\n",
              "     <input type=\"file\" id=\"files-6b686b0d-051a-4dce-90f6-d4026e17b0a3\" name=\"files[]\" multiple disabled\n",
              "        style=\"border:none\" />\n",
              "     <output id=\"result-6b686b0d-051a-4dce-90f6-d4026e17b0a3\">\n",
              "      Upload widget is only available when the cell has been executed in the\n",
              "      current browser session. Please rerun this cell to enable.\n",
              "      </output>\n",
              "      <script>// Copyright 2017 Google LLC\n",
              "//\n",
              "// Licensed under the Apache License, Version 2.0 (the \"License\");\n",
              "// you may not use this file except in compliance with the License.\n",
              "// You may obtain a copy of the License at\n",
              "//\n",
              "//      http://www.apache.org/licenses/LICENSE-2.0\n",
              "//\n",
              "// Unless required by applicable law or agreed to in writing, software\n",
              "// distributed under the License is distributed on an \"AS IS\" BASIS,\n",
              "// WITHOUT WARRANTIES OR CONDITIONS OF ANY KIND, either express or implied.\n",
              "// See the License for the specific language governing permissions and\n",
              "// limitations under the License.\n",
              "\n",
              "/**\n",
              " * @fileoverview Helpers for google.colab Python module.\n",
              " */\n",
              "(function(scope) {\n",
              "function span(text, styleAttributes = {}) {\n",
              "  const element = document.createElement('span');\n",
              "  element.textContent = text;\n",
              "  for (const key of Object.keys(styleAttributes)) {\n",
              "    element.style[key] = styleAttributes[key];\n",
              "  }\n",
              "  return element;\n",
              "}\n",
              "\n",
              "// Max number of bytes which will be uploaded at a time.\n",
              "const MAX_PAYLOAD_SIZE = 100 * 1024;\n",
              "\n",
              "function _uploadFiles(inputId, outputId) {\n",
              "  const steps = uploadFilesStep(inputId, outputId);\n",
              "  const outputElement = document.getElementById(outputId);\n",
              "  // Cache steps on the outputElement to make it available for the next call\n",
              "  // to uploadFilesContinue from Python.\n",
              "  outputElement.steps = steps;\n",
              "\n",
              "  return _uploadFilesContinue(outputId);\n",
              "}\n",
              "\n",
              "// This is roughly an async generator (not supported in the browser yet),\n",
              "// where there are multiple asynchronous steps and the Python side is going\n",
              "// to poll for completion of each step.\n",
              "// This uses a Promise to block the python side on completion of each step,\n",
              "// then passes the result of the previous step as the input to the next step.\n",
              "function _uploadFilesContinue(outputId) {\n",
              "  const outputElement = document.getElementById(outputId);\n",
              "  const steps = outputElement.steps;\n",
              "\n",
              "  const next = steps.next(outputElement.lastPromiseValue);\n",
              "  return Promise.resolve(next.value.promise).then((value) => {\n",
              "    // Cache the last promise value to make it available to the next\n",
              "    // step of the generator.\n",
              "    outputElement.lastPromiseValue = value;\n",
              "    return next.value.response;\n",
              "  });\n",
              "}\n",
              "\n",
              "/**\n",
              " * Generator function which is called between each async step of the upload\n",
              " * process.\n",
              " * @param {string} inputId Element ID of the input file picker element.\n",
              " * @param {string} outputId Element ID of the output display.\n",
              " * @return {!Iterable<!Object>} Iterable of next steps.\n",
              " */\n",
              "function* uploadFilesStep(inputId, outputId) {\n",
              "  const inputElement = document.getElementById(inputId);\n",
              "  inputElement.disabled = false;\n",
              "\n",
              "  const outputElement = document.getElementById(outputId);\n",
              "  outputElement.innerHTML = '';\n",
              "\n",
              "  const pickedPromise = new Promise((resolve) => {\n",
              "    inputElement.addEventListener('change', (e) => {\n",
              "      resolve(e.target.files);\n",
              "    });\n",
              "  });\n",
              "\n",
              "  const cancel = document.createElement('button');\n",
              "  inputElement.parentElement.appendChild(cancel);\n",
              "  cancel.textContent = 'Cancel upload';\n",
              "  const cancelPromise = new Promise((resolve) => {\n",
              "    cancel.onclick = () => {\n",
              "      resolve(null);\n",
              "    };\n",
              "  });\n",
              "\n",
              "  // Wait for the user to pick the files.\n",
              "  const files = yield {\n",
              "    promise: Promise.race([pickedPromise, cancelPromise]),\n",
              "    response: {\n",
              "      action: 'starting',\n",
              "    }\n",
              "  };\n",
              "\n",
              "  cancel.remove();\n",
              "\n",
              "  // Disable the input element since further picks are not allowed.\n",
              "  inputElement.disabled = true;\n",
              "\n",
              "  if (!files) {\n",
              "    return {\n",
              "      response: {\n",
              "        action: 'complete',\n",
              "      }\n",
              "    };\n",
              "  }\n",
              "\n",
              "  for (const file of files) {\n",
              "    const li = document.createElement('li');\n",
              "    li.append(span(file.name, {fontWeight: 'bold'}));\n",
              "    li.append(span(\n",
              "        `(${file.type || 'n/a'}) - ${file.size} bytes, ` +\n",
              "        `last modified: ${\n",
              "            file.lastModifiedDate ? file.lastModifiedDate.toLocaleDateString() :\n",
              "                                    'n/a'} - `));\n",
              "    const percent = span('0% done');\n",
              "    li.appendChild(percent);\n",
              "\n",
              "    outputElement.appendChild(li);\n",
              "\n",
              "    const fileDataPromise = new Promise((resolve) => {\n",
              "      const reader = new FileReader();\n",
              "      reader.onload = (e) => {\n",
              "        resolve(e.target.result);\n",
              "      };\n",
              "      reader.readAsArrayBuffer(file);\n",
              "    });\n",
              "    // Wait for the data to be ready.\n",
              "    let fileData = yield {\n",
              "      promise: fileDataPromise,\n",
              "      response: {\n",
              "        action: 'continue',\n",
              "      }\n",
              "    };\n",
              "\n",
              "    // Use a chunked sending to avoid message size limits. See b/62115660.\n",
              "    let position = 0;\n",
              "    do {\n",
              "      const length = Math.min(fileData.byteLength - position, MAX_PAYLOAD_SIZE);\n",
              "      const chunk = new Uint8Array(fileData, position, length);\n",
              "      position += length;\n",
              "\n",
              "      const base64 = btoa(String.fromCharCode.apply(null, chunk));\n",
              "      yield {\n",
              "        response: {\n",
              "          action: 'append',\n",
              "          file: file.name,\n",
              "          data: base64,\n",
              "        },\n",
              "      };\n",
              "\n",
              "      let percentDone = fileData.byteLength === 0 ?\n",
              "          100 :\n",
              "          Math.round((position / fileData.byteLength) * 100);\n",
              "      percent.textContent = `${percentDone}% done`;\n",
              "\n",
              "    } while (position < fileData.byteLength);\n",
              "  }\n",
              "\n",
              "  // All done.\n",
              "  yield {\n",
              "    response: {\n",
              "      action: 'complete',\n",
              "    }\n",
              "  };\n",
              "}\n",
              "\n",
              "scope.google = scope.google || {};\n",
              "scope.google.colab = scope.google.colab || {};\n",
              "scope.google.colab._files = {\n",
              "  _uploadFiles,\n",
              "  _uploadFilesContinue,\n",
              "};\n",
              "})(self);\n",
              "</script> "
            ]
          },
          "metadata": {}
        },
        {
          "output_type": "stream",
          "name": "stdout",
          "text": [
            "Saving Fake Postings.csv to Fake Postings.csv\n"
          ]
        }
      ]
    },
    {
      "cell_type": "code",
      "source": [
        "import pandas as pd\n",
        "\n",
        "# Load the Fake Postings dataset\n",
        "df_jobs = pd.read_csv('Fake Postings.csv')\n",
        "\n",
        "# Inspect the first few rows to verify the data\n",
        "print(df_jobs.head())\n"
      ],
      "metadata": {
        "colab": {
          "base_uri": "https://localhost:8080/"
        },
        "id": "AszO-mfrrx-A",
        "outputId": "cc477825-d043-4c36-d8a5-4e1f5ac57c4f"
      },
      "execution_count": 4,
      "outputs": [
        {
          "output_type": "stream",
          "name": "stdout",
          "text": [
            "                                          title  \\\n",
            "0                           Mental health nurse   \n",
            "1                     Conference centre manager   \n",
            "2                                Engineer, land   \n",
            "3                       Forest/woodland manager   \n",
            "4  Production designer, theatre/television/film   \n",
            "\n",
            "                                         description  \\\n",
            "0  Arm drive court sure vote. Earn $5000/week! Im...   \n",
            "1  Government whom its bed go tax tree black. Ear...   \n",
            "2  I member discuss follow way there nation. Earn...   \n",
            "3  House across wait approach face. Earn $5000/we...   \n",
            "4  Case best environmental full finally leader me...   \n",
            "\n",
            "                                        requirements  \\\n",
            "0  Basic knowledge in live, no degree required. F...   \n",
            "1  Basic knowledge in seek, no degree required. F...   \n",
            "2  Basic knowledge in worker, no degree required....   \n",
            "3  Basic knowledge in example, no degree required...   \n",
            "4  Basic knowledge in smile, no degree required. ...   \n",
            "\n",
            "                                    company_profile           location  \\\n",
            "0               Rivera and Sons - Established 2022.       West Jeffrey   \n",
            "1     Davidson, Jones and Gomez - Established 2003.  Lake Meredithberg   \n",
            "2                     Allen Ltd - Established 1998.     Lake Cathybury   \n",
            "3                    Forbes Ltd - Established 1990.  South Matthewstad   \n",
            "4  Jennings, Martin and Sanchez - Established 1975.    East Rhondafurt   \n",
            "\n",
            "     salary_range employment_type   industry        benefits  fraudulent  \n",
            "0  $55016-$100476      Internship         IT      Free meals           1  \n",
            "1   $53438-$93138       Part-Time    Finance  Flexible hours           1  \n",
            "2  $45584-$105229       Part-Time         IT     Free travel           1  \n",
            "3  $66188-$139621       Full-Time  Education     Free travel           1  \n",
            "4  $32183-$115012       Temporary     Retail  Flexible hours           1  \n"
          ]
        }
      ]
    },
    {
      "cell_type": "code",
      "source": [
        "# Check the column names\n",
        "print(df_jobs.columns)\n"
      ],
      "metadata": {
        "colab": {
          "base_uri": "https://localhost:8080/"
        },
        "id": "LkbAquz-r1-m",
        "outputId": "67f1a209-b297-4422-ce80-3f7c6860a75c"
      },
      "execution_count": 5,
      "outputs": [
        {
          "output_type": "stream",
          "name": "stdout",
          "text": [
            "Index(['title', 'description', 'requirements', 'company_profile', 'location',\n",
            "       'salary_range', 'employment_type', 'industry', 'benefits',\n",
            "       'fraudulent'],\n",
            "      dtype='object')\n"
          ]
        }
      ]
    },
    {
      "cell_type": "code",
      "source": [
        "# Check for missing values\n",
        "print(df_jobs.isnull().sum())\n",
        "\n",
        "# Fill missing values for categorical columns (e.g., 'salary_range', 'employment_type')\n",
        "df_jobs['salary_range'].fillna('Unknown', inplace=True)\n",
        "df_jobs['employment_type'].fillna('Unknown', inplace=True)\n",
        "\n",
        "# For text columns, we can fill missing descriptions with a placeholder text\n",
        "df_jobs['description'].fillna('No description available', inplace=True)\n",
        "\n",
        "# Check again after filling missing values\n",
        "print(df_jobs.isnull().sum())\n"
      ],
      "metadata": {
        "colab": {
          "base_uri": "https://localhost:8080/"
        },
        "id": "yY3kvA6qsMmM",
        "outputId": "06d4df63-5a65-49b6-8294-e08d7952064e"
      },
      "execution_count": 6,
      "outputs": [
        {
          "output_type": "stream",
          "name": "stdout",
          "text": [
            "title              0\n",
            "description        0\n",
            "requirements       0\n",
            "company_profile    0\n",
            "location           0\n",
            "salary_range       0\n",
            "employment_type    0\n",
            "industry           0\n",
            "benefits           0\n",
            "fraudulent         0\n",
            "dtype: int64\n",
            "title              0\n",
            "description        0\n",
            "requirements       0\n",
            "company_profile    0\n",
            "location           0\n",
            "salary_range       0\n",
            "employment_type    0\n",
            "industry           0\n",
            "benefits           0\n",
            "fraudulent         0\n",
            "dtype: int64\n"
          ]
        },
        {
          "output_type": "stream",
          "name": "stderr",
          "text": [
            "<ipython-input-6-04c7f69b3bb6>:5: FutureWarning: A value is trying to be set on a copy of a DataFrame or Series through chained assignment using an inplace method.\n",
            "The behavior will change in pandas 3.0. This inplace method will never work because the intermediate object on which we are setting values always behaves as a copy.\n",
            "\n",
            "For example, when doing 'df[col].method(value, inplace=True)', try using 'df.method({col: value}, inplace=True)' or df[col] = df[col].method(value) instead, to perform the operation inplace on the original object.\n",
            "\n",
            "\n",
            "  df_jobs['salary_range'].fillna('Unknown', inplace=True)\n",
            "<ipython-input-6-04c7f69b3bb6>:6: FutureWarning: A value is trying to be set on a copy of a DataFrame or Series through chained assignment using an inplace method.\n",
            "The behavior will change in pandas 3.0. This inplace method will never work because the intermediate object on which we are setting values always behaves as a copy.\n",
            "\n",
            "For example, when doing 'df[col].method(value, inplace=True)', try using 'df.method({col: value}, inplace=True)' or df[col] = df[col].method(value) instead, to perform the operation inplace on the original object.\n",
            "\n",
            "\n",
            "  df_jobs['employment_type'].fillna('Unknown', inplace=True)\n",
            "<ipython-input-6-04c7f69b3bb6>:9: FutureWarning: A value is trying to be set on a copy of a DataFrame or Series through chained assignment using an inplace method.\n",
            "The behavior will change in pandas 3.0. This inplace method will never work because the intermediate object on which we are setting values always behaves as a copy.\n",
            "\n",
            "For example, when doing 'df[col].method(value, inplace=True)', try using 'df.method({col: value}, inplace=True)' or df[col] = df[col].method(value) instead, to perform the operation inplace on the original object.\n",
            "\n",
            "\n",
            "  df_jobs['description'].fillna('No description available', inplace=True)\n"
          ]
        }
      ]
    },
    {
      "cell_type": "code",
      "source": [
        "# Fill missing values for categorical columns (e.g., 'salary_range', 'employment_type')\n",
        "df_jobs['salary_range'] = df_jobs['salary_range'].fillna('Unknown')\n",
        "df_jobs['employment_type'] = df_jobs['employment_type'].fillna('Unknown')\n",
        "\n",
        "# For text columns, fill missing descriptions with a placeholder text\n",
        "df_jobs['description'] = df_jobs['description'].fillna('No description available')\n",
        "\n",
        "# Verify if there are still missing values\n",
        "print(df_jobs.isnull().sum())\n"
      ],
      "metadata": {
        "colab": {
          "base_uri": "https://localhost:8080/"
        },
        "id": "kdYoTMzxsXy1",
        "outputId": "220a714d-0524-44fc-b95d-204d011c7841"
      },
      "execution_count": 7,
      "outputs": [
        {
          "output_type": "stream",
          "name": "stdout",
          "text": [
            "title              0\n",
            "description        0\n",
            "requirements       0\n",
            "company_profile    0\n",
            "location           0\n",
            "salary_range       0\n",
            "employment_type    0\n",
            "industry           0\n",
            "benefits           0\n",
            "fraudulent         0\n",
            "dtype: int64\n"
          ]
        }
      ]
    },
    {
      "cell_type": "code",
      "source": [
        "import string\n",
        "from nltk.corpus import stopwords\n",
        "\n",
        "# Download stopwords if not already done\n",
        "import nltk\n",
        "nltk.download('stopwords')\n",
        "\n",
        "# Define stopwords and punctuation\n",
        "stop_words = set(stopwords.words('english'))\n",
        "\n",
        "def preprocess_text(text):\n",
        "    # Convert text to lowercase\n",
        "    text = text.lower()\n",
        "\n",
        "    # Remove punctuation\n",
        "    text = ''.join([char for char in text if char not in string.punctuation])\n",
        "\n",
        "    # Remove stopwords\n",
        "    text = ' '.join([word for word in text.split() if word not in stop_words])\n",
        "\n",
        "    return text\n",
        "\n",
        "# Apply preprocessing to the 'description' column\n",
        "df_jobs['processed_description'] = df_jobs['description'].apply(preprocess_text)\n",
        "\n",
        "# Check the updated dataframe to verify changes\n",
        "print(df_jobs[['description', 'processed_description']].head())\n"
      ],
      "metadata": {
        "colab": {
          "base_uri": "https://localhost:8080/"
        },
        "id": "aZ-SRsJ3siHy",
        "outputId": "c6c90a2d-8f64-4eb2-8cb7-b125b7abd028"
      },
      "execution_count": 8,
      "outputs": [
        {
          "output_type": "stream",
          "name": "stderr",
          "text": [
            "[nltk_data] Downloading package stopwords to /root/nltk_data...\n",
            "[nltk_data]   Unzipping corpora/stopwords.zip.\n"
          ]
        },
        {
          "output_type": "stream",
          "name": "stdout",
          "text": [
            "                                         description  \\\n",
            "0  Arm drive court sure vote. Earn $5000/week! Im...   \n",
            "1  Government whom its bed go tax tree black. Ear...   \n",
            "2  I member discuss follow way there nation. Earn...   \n",
            "3  House across wait approach face. Earn $5000/we...   \n",
            "4  Case best environmental full finally leader me...   \n",
            "\n",
            "                               processed_description  \n",
            "0  arm drive court sure vote earn 5000week immedi...  \n",
            "1  government bed go tax tree black earn 5000week...  \n",
            "2  member discuss follow way nation earn 5000week...  \n",
            "3  house across wait approach face earn 5000week ...  \n",
            "4  case best environmental full finally leader ea...  \n"
          ]
        }
      ]
    },
    {
      "cell_type": "code",
      "source": [
        "from sklearn.feature_extraction.text import TfidfVectorizer\n",
        "\n",
        "# Initialize TF-IDF Vectorizer\n",
        "tfidf = TfidfVectorizer(max_features=5000)  # Adjust max_features as needed\n",
        "\n",
        "# Fit the vectorizer on the processed descriptions\n",
        "X = tfidf.fit_transform(df_jobs['processed_description']).toarray()\n",
        "\n",
        "# Check the shape of the resulting feature matrix\n",
        "print(\"Shape of TF-IDF matrix:\", X.shape)\n"
      ],
      "metadata": {
        "colab": {
          "base_uri": "https://localhost:8080/"
        },
        "id": "uHZZzuctssSC",
        "outputId": "717dad4d-b27a-45bf-ea66-5f8ec30d64d8"
      },
      "execution_count": 10,
      "outputs": [
        {
          "output_type": "stream",
          "name": "stdout",
          "text": [
            "Shape of TF-IDF matrix: (10000, 5000)\n"
          ]
        }
      ]
    },
    {
      "cell_type": "code",
      "source": [
        "from sklearn.model_selection import train_test_split\n",
        "\n",
        "# Target variable (fraudulent: 1 for fake, 0 for real)\n",
        "y = df_jobs['fraudulent']\n",
        "\n",
        "# Split the data\n",
        "X_train, X_test, y_train, y_test = train_test_split(X, y, test_size=0.2, random_state=42)\n",
        "\n",
        "print(f\"Training set size: {X_train.shape[0]}\")\n",
        "print(f\"Test set size: {X_test.shape[0]}\")\n"
      ],
      "metadata": {
        "colab": {
          "base_uri": "https://localhost:8080/"
        },
        "id": "gf5iqwOys6Bv",
        "outputId": "5bee7a88-5bdb-40eb-8d27-4803743b2621"
      },
      "execution_count": 11,
      "outputs": [
        {
          "output_type": "stream",
          "name": "stdout",
          "text": [
            "Training set size: 8000\n",
            "Test set size: 2000\n"
          ]
        }
      ]
    },
    {
      "cell_type": "code",
      "source": [
        "# Check class distribution in the training set\n",
        "print(\"Class distribution in the training set:\")\n",
        "print(y_train.value_counts())\n",
        "\n",
        "# Check class distribution in the test set\n",
        "print(\"\\nClass distribution in the test set:\")\n",
        "print(y_test.value_counts())\n"
      ],
      "metadata": {
        "colab": {
          "base_uri": "https://localhost:8080/"
        },
        "id": "xvO-DGmYs-nw",
        "outputId": "1af174e9-8b6d-40d0-9abd-48f54fd2a7a1"
      },
      "execution_count": 14,
      "outputs": [
        {
          "output_type": "stream",
          "name": "stdout",
          "text": [
            "Class distribution in the training set:\n",
            "fraudulent\n",
            "1    8000\n",
            "Name: count, dtype: int64\n",
            "\n",
            "Class distribution in the test set:\n",
            "fraudulent\n",
            "1    2000\n",
            "Name: count, dtype: int64\n"
          ]
        }
      ]
    },
    {
      "cell_type": "code",
      "source": [
        "from sklearn.model_selection import train_test_split\n",
        "\n",
        "# Perform a stratified split (to maintain class distribution)\n",
        "X_train, X_test, y_train, y_test = train_test_split(X, y, test_size=0.2, random_state=42, stratify=y)\n",
        "\n",
        "# Check class distribution again\n",
        "print(\"Class distribution in the training set:\")\n",
        "print(y_train.value_counts())\n",
        "\n",
        "print(\"\\nClass distribution in the test set:\")\n",
        "print(y_test.value_counts())\n"
      ],
      "metadata": {
        "colab": {
          "base_uri": "https://localhost:8080/"
        },
        "id": "fvr5bX5dul4G",
        "outputId": "7fcc896a-f95a-4d9b-da92-ab22cc9228b0"
      },
      "execution_count": 15,
      "outputs": [
        {
          "output_type": "stream",
          "name": "stdout",
          "text": [
            "Class distribution in the training set:\n",
            "fraudulent\n",
            "1    8000\n",
            "Name: count, dtype: int64\n",
            "\n",
            "Class distribution in the test set:\n",
            "fraudulent\n",
            "1    2000\n",
            "Name: count, dtype: int64\n"
          ]
        }
      ]
    },
    {
      "cell_type": "code",
      "source": [
        "# Check the class distribution in the entire dataset (before splitting)\n",
        "print(\"Class distribution in the original dataset:\")\n",
        "print(df_jobs['fraudulent'].value_counts())\n"
      ],
      "metadata": {
        "colab": {
          "base_uri": "https://localhost:8080/"
        },
        "id": "94ZnhLNxu6Wn",
        "outputId": "c8ce26c0-5210-460f-f449-9d86d832218a"
      },
      "execution_count": 16,
      "outputs": [
        {
          "output_type": "stream",
          "name": "stdout",
          "text": [
            "Class distribution in the original dataset:\n",
            "fraudulent\n",
            "1    10000\n",
            "Name: count, dtype: int64\n"
          ]
        }
      ]
    },
    {
      "cell_type": "code",
      "source": [
        "from sklearn.ensemble import IsolationForest\n",
        "from sklearn.metrics import classification_report, confusion_matrix\n",
        "\n",
        "# Train the Isolation Forest model for anomaly detection\n",
        "model_iforest = IsolationForest(contamination=0.01, random_state=42)  # 1% contamination for non-fraudulent\n",
        "model_iforest.fit(X_train)\n",
        "\n",
        "# Predict anomalies\n",
        "y_pred_iforest = model_iforest.predict(X_test)\n",
        "\n",
        "# Convert predictions to match binary classification (1 for normal, -1 for anomaly)\n",
        "y_pred_iforest = [1 if x == 1 else 0 for x in y_pred_iforest]\n",
        "\n",
        "# Evaluate the model\n",
        "print(\"Isolation Forest Model Evaluation:\")\n",
        "print(classification_report(y_test, y_pred_iforest))\n",
        "print(\"Confusion Matrix:\\n\", confusion_matrix(y_test, y_pred_iforest))\n"
      ],
      "metadata": {
        "colab": {
          "base_uri": "https://localhost:8080/"
        },
        "id": "Ue_hKHnxvFCM",
        "outputId": "06f6e25e-4881-493d-ca32-0f9b7d8a8932"
      },
      "execution_count": 17,
      "outputs": [
        {
          "output_type": "stream",
          "name": "stdout",
          "text": [
            "Isolation Forest Model Evaluation:\n",
            "              precision    recall  f1-score   support\n",
            "\n",
            "           0       0.00      0.00      0.00         0\n",
            "           1       1.00      0.99      0.99      2000\n",
            "\n",
            "    accuracy                           0.99      2000\n",
            "   macro avg       0.50      0.49      0.50      2000\n",
            "weighted avg       1.00      0.99      0.99      2000\n",
            "\n",
            "Confusion Matrix:\n",
            " [[   0    0]\n",
            " [  26 1974]]\n"
          ]
        },
        {
          "output_type": "stream",
          "name": "stderr",
          "text": [
            "/usr/local/lib/python3.10/dist-packages/sklearn/metrics/_classification.py:1531: UndefinedMetricWarning: Recall is ill-defined and being set to 0.0 in labels with no true samples. Use `zero_division` parameter to control this behavior.\n",
            "  _warn_prf(average, modifier, f\"{metric.capitalize()} is\", len(result))\n",
            "/usr/local/lib/python3.10/dist-packages/sklearn/metrics/_classification.py:1531: UndefinedMetricWarning: Recall is ill-defined and being set to 0.0 in labels with no true samples. Use `zero_division` parameter to control this behavior.\n",
            "  _warn_prf(average, modifier, f\"{metric.capitalize()} is\", len(result))\n",
            "/usr/local/lib/python3.10/dist-packages/sklearn/metrics/_classification.py:1531: UndefinedMetricWarning: Recall is ill-defined and being set to 0.0 in labels with no true samples. Use `zero_division` parameter to control this behavior.\n",
            "  _warn_prf(average, modifier, f\"{metric.capitalize()} is\", len(result))\n"
          ]
        }
      ]
    },
    {
      "cell_type": "code",
      "source": [
        "from sklearn.svm import OneClassSVM\n",
        "\n",
        "# Train the One-Class SVM model\n",
        "model_ocsvm = OneClassSVM(kernel='rbf', gamma='scale', nu=0.01)  # nu controls the proportion of outliers\n",
        "model_ocsvm.fit(X_train)\n",
        "\n",
        "# Predict anomalies\n",
        "y_pred_ocsvm = model_ocsvm.predict(X_test)\n",
        "\n",
        "# Convert predictions to match binary classification (1 for normal, -1 for anomaly)\n",
        "y_pred_ocsvm = [1 if x == 1 else 0 for x in y_pred_ocsvm]\n",
        "\n",
        "# Evaluate the model\n",
        "print(\"One-Class SVM Model Evaluation:\")\n",
        "print(classification_report(y_test, y_pred_ocsvm))\n",
        "print(\"Confusion Matrix:\\n\", confusion_matrix(y_test, y_pred_ocsvm))\n"
      ],
      "metadata": {
        "colab": {
          "base_uri": "https://localhost:8080/"
        },
        "id": "wM7k_4cDvOs8",
        "outputId": "e45235e1-7252-4ee2-9211-4739f68d4f98"
      },
      "execution_count": 18,
      "outputs": [
        {
          "output_type": "stream",
          "name": "stdout",
          "text": [
            "One-Class SVM Model Evaluation:\n",
            "              precision    recall  f1-score   support\n",
            "\n",
            "           0       0.00      0.00      0.00         0\n",
            "           1       1.00      0.67      0.80      2000\n",
            "\n",
            "    accuracy                           0.67      2000\n",
            "   macro avg       0.50      0.34      0.40      2000\n",
            "weighted avg       1.00      0.67      0.80      2000\n",
            "\n",
            "Confusion Matrix:\n",
            " [[   0    0]\n",
            " [ 656 1344]]\n"
          ]
        },
        {
          "output_type": "stream",
          "name": "stderr",
          "text": [
            "/usr/local/lib/python3.10/dist-packages/sklearn/metrics/_classification.py:1531: UndefinedMetricWarning: Recall is ill-defined and being set to 0.0 in labels with no true samples. Use `zero_division` parameter to control this behavior.\n",
            "  _warn_prf(average, modifier, f\"{metric.capitalize()} is\", len(result))\n",
            "/usr/local/lib/python3.10/dist-packages/sklearn/metrics/_classification.py:1531: UndefinedMetricWarning: Recall is ill-defined and being set to 0.0 in labels with no true samples. Use `zero_division` parameter to control this behavior.\n",
            "  _warn_prf(average, modifier, f\"{metric.capitalize()} is\", len(result))\n",
            "/usr/local/lib/python3.10/dist-packages/sklearn/metrics/_classification.py:1531: UndefinedMetricWarning: Recall is ill-defined and being set to 0.0 in labels with no true samples. Use `zero_division` parameter to control this behavior.\n",
            "  _warn_prf(average, modifier, f\"{metric.capitalize()} is\", len(result))\n"
          ]
        }
      ]
    },
    {
      "cell_type": "code",
      "source": [
        "import matplotlib.pyplot as plt\n",
        "from sklearn.decomposition import PCA\n",
        "\n",
        "# Reduce the feature space to 2D using PCA\n",
        "pca = PCA(n_components=2)\n",
        "X_pca = pca.fit_transform(X)\n",
        "\n",
        "# Plot the 2D data\n",
        "plt.figure(figsize=(10, 6))\n",
        "plt.scatter(X_pca[:, 0], X_pca[:, 1], c=y, cmap='coolwarm', marker='o', alpha=0.7)\n",
        "plt.title(\"Job Postings (2D PCA) - Fraudulent (1) vs Non-fraudulent (0)\")\n",
        "plt.xlabel(\"Principal Component 1\")\n",
        "plt.ylabel(\"Principal Component 2\")\n",
        "plt.colorbar(label=\"Fraudulent (1) vs Non-fraudulent (0)\")\n",
        "plt.show()\n"
      ],
      "metadata": {
        "colab": {
          "base_uri": "https://localhost:8080/",
          "height": 426
        },
        "id": "4QVX6M0iwGju",
        "outputId": "398f49f3-1191-44da-9f85-9a22f5a8a543"
      },
      "execution_count": 19,
      "outputs": [
        {
          "output_type": "display_data",
          "data": {
            "text/plain": [
              "<Figure size 1000x600 with 2 Axes>"
            ],
            "image/png": "[encoded data removed]"
          },
          "metadata": {}
        }
      ]
    }
  ]
}