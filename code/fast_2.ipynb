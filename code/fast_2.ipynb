{
  "nbformat": 4,
  "nbformat_minor": 0,
  "metadata": {
    "colab": {
      "provenance": []
    },
    "kernelspec": {
      "name": "python3",
      "display_name": "Python 3"
    },
    "language_info": {
      "name": "python"
    }
  },
  "cells": [
    {
      "cell_type": "code",
      "execution_count": 1,
      "metadata": {
        "colab": {
          "base_uri": "https://localhost:8080/",
          "height": 74
        },
        "id": "lfcB6S05xL67",
        "outputId": "2a50bc5a-e9c4-4916-984b-f48a2e327e38"
      },
      "outputs": [
        {
          "output_type": "display_data",
          "data": {
            "text/plain": [
              "<IPython.core.display.HTML object>"
            ],
            "text/html": [
              "\n",
              "     <input type=\"file\" id=\"files-964c43a4-dfbc-4920-9f75-9d2c44a7b7f2\" name=\"files[]\" multiple disabled\n",
              "        style=\"border:none\" />\n",
              "     <output id=\"result-964c43a4-dfbc-4920-9f75-9d2c44a7b7f2\">\n",
              "      Upload widget is only available when the cell has been executed in the\n",
              "      current browser session. Please rerun this cell to enable.\n",
              "      </output>\n",
              "      <script>// Copyright 2017 Google LLC\n",
              "//\n",
              "// Licensed under the Apache License, Version 2.0 (the \"License\");\n",
              "// you may not use this file except in compliance with the License.\n",
              "// You may obtain a copy of the License at\n",
              "//\n",
              "//      http://www.apache.org/licenses/LICENSE-2.0\n",
              "//\n",
              "// Unless required by applicable law or agreed to in writing, software\n",
              "// distributed under the License is distributed on an \"AS IS\" BASIS,\n",
              "// WITHOUT WARRANTIES OR CONDITIONS OF ANY KIND, either express or implied.\n",
              "// See the License for the specific language governing permissions and\n",
              "// limitations under the License.\n",
              "\n",
              "/**\n",
              " * @fileoverview Helpers for google.colab Python module.\n",
              " */\n",
              "(function(scope) {\n",
              "function span(text, styleAttributes = {}) {\n",
              "  const element = document.createElement('span');\n",
              "  element.textContent = text;\n",
              "  for (const key of Object.keys(styleAttributes)) {\n",
              "    element.style[key] = styleAttributes[key];\n",
              "  }\n",
              "  return element;\n",
              "}\n",
              "\n",
              "// Max number of bytes which will be uploaded at a time.\n",
              "const MAX_PAYLOAD_SIZE = 100 * 1024;\n",
              "\n",
              "function _uploadFiles(inputId, outputId) {\n",
              "  const steps = uploadFilesStep(inputId, outputId);\n",
              "  const outputElement = document.getElementById(outputId);\n",
              "  // Cache steps on the outputElement to make it available for the next call\n",
              "  // to uploadFilesContinue from Python.\n",
              "  outputElement.steps = steps;\n",
              "\n",
              "  return _uploadFilesContinue(outputId);\n",
              "}\n",
              "\n",
              "// This is roughly an async generator (not supported in the browser yet),\n",
              "// where there are multiple asynchronous steps and the Python side is going\n",
              "// to poll for completion of each step.\n",
              "// This uses a Promise to block the python side on completion of each step,\n",
              "// then passes the result of the previous step as the input to the next step.\n",
              "function _uploadFilesContinue(outputId) {\n",
              "  const outputElement = document.getElementById(outputId);\n",
              "  const steps = outputElement.steps;\n",
              "\n",
              "  const next = steps.next(outputElement.lastPromiseValue);\n",
              "  return Promise.resolve(next.value.promise).then((value) => {\n",
              "    // Cache the last promise value to make it available to the next\n",
              "    // step of the generator.\n",
              "    outputElement.lastPromiseValue = value;\n",
              "    return next.value.response;\n",
              "  });\n",
              "}\n",
              "\n",
              "/**\n",
              " * Generator function which is called between each async step of the upload\n",
              " * process.\n",
              " * @param {string} inputId Element ID of the input file picker element.\n",
              " * @param {string} outputId Element ID of the output display.\n",
              " * @return {!Iterable<!Object>} Iterable of next steps.\n",
              " */\n",
              "function* uploadFilesStep(inputId, outputId) {\n",
              "  const inputElement = document.getElementById(inputId);\n",
              "  inputElement.disabled = false;\n",
              "\n",
              "  const outputElement = document.getElementById(outputId);\n",
              "  outputElement.innerHTML = '';\n",
              "\n",
              "  const pickedPromise = new Promise((resolve) => {\n",
              "    inputElement.addEventListener('change', (e) => {\n",
              "      resolve(e.target.files);\n",
              "    });\n",
              "  });\n",
              "\n",
              "  const cancel = document.createElement('button');\n",
              "  inputElement.parentElement.appendChild(cancel);\n",
              "  cancel.textContent = 'Cancel upload';\n",
              "  const cancelPromise = new Promise((resolve) => {\n",
              "    cancel.onclick = () => {\n",
              "      resolve(null);\n",
              "    };\n",
              "  });\n",
              "\n",
              "  // Wait for the user to pick the files.\n",
              "  const files = yield {\n",
              "    promise: Promise.race([pickedPromise, cancelPromise]),\n",
              "    response: {\n",
              "      action: 'starting',\n",
              "    }\n",
              "  };\n",
              "\n",
              "  cancel.remove();\n",
              "\n",
              "  // Disable the input element since further picks are not allowed.\n",
              "  inputElement.disabled = true;\n",
              "\n",
              "  if (!files) {\n",
              "    return {\n",
              "      response: {\n",
              "        action: 'complete',\n",
              "      }\n",
              "    };\n",
              "  }\n",
              "\n",
              "  for (const file of files) {\n",
              "    const li = document.createElement('li');\n",
              "    li.append(span(file.name, {fontWeight: 'bold'}));\n",
              "    li.append(span(\n",
              "        `(${file.type || 'n/a'}) - ${file.size} bytes, ` +\n",
              "        `last modified: ${\n",
              "            file.lastModifiedDate ? file.lastModifiedDate.toLocaleDateString() :\n",
              "                                    'n/a'} - `));\n",
              "    const percent = span('0% done');\n",
              "    li.appendChild(percent);\n",
              "\n",
              "    outputElement.appendChild(li);\n",
              "\n",
              "    const fileDataPromise = new Promise((resolve) => {\n",
              "      const reader = new FileReader();\n",
              "      reader.onload = (e) => {\n",
              "        resolve(e.target.result);\n",
              "      };\n",
              "      reader.readAsArrayBuffer(file);\n",
              "    });\n",
              "    // Wait for the data to be ready.\n",
              "    let fileData = yield {\n",
              "      promise: fileDataPromise,\n",
              "      response: {\n",
              "        action: 'continue',\n",
              "      }\n",
              "    };\n",
              "\n",
              "    // Use a chunked sending to avoid message size limits. See b/62115660.\n",
              "    let position = 0;\n",
              "    do {\n",
              "      const length = Math.min(fileData.byteLength - position, MAX_PAYLOAD_SIZE);\n",
              "      const chunk = new Uint8Array(fileData, position, length);\n",
              "      position += length;\n",
              "\n",
              "      const base64 = btoa(String.fromCharCode.apply(null, chunk));\n",
              "      yield {\n",
              "        response: {\n",
              "          action: 'append',\n",
              "          file: file.name,\n",
              "          data: base64,\n",
              "        },\n",
              "      };\n",
              "\n",
              "      let percentDone = fileData.byteLength === 0 ?\n",
              "          100 :\n",
              "          Math.round((position / fileData.byteLength) * 100);\n",
              "      percent.textContent = `${percentDone}% done`;\n",
              "\n",
              "    } while (position < fileData.byteLength);\n",
              "  }\n",
              "\n",
              "  // All done.\n",
              "  yield {\n",
              "    response: {\n",
              "      action: 'complete',\n",
              "    }\n",
              "  };\n",
              "}\n",
              "\n",
              "scope.google = scope.google || {};\n",
              "scope.google.colab = scope.google.colab || {};\n",
              "scope.google.colab._files = {\n",
              "  _uploadFiles,\n",
              "  _uploadFilesContinue,\n",
              "};\n",
              "})(self);\n",
              "</script> "
            ]
          },
          "metadata": {}
        },
        {
          "output_type": "stream",
          "name": "stdout",
          "text": [
            "Saving imdb_top_1000.csv to imdb_top_1000.csv\n"
          ]
        }
      ],
      "source": [
        "# Import necessary library for file upload\n",
        "from google.colab import files\n",
        "import pandas as pd\n",
        "\n",
        "# Upload the file\n",
        "uploaded = files.upload()"
      ]
    },
    {
      "cell_type": "code",
      "source": [
        "import pandas as pd\n",
        "\n",
        "# Load the IMDB Top 1000 dataset\n",
        "df_imdb = pd.read_csv('imdb_top_1000.csv')\n",
        "\n",
        "# Display the first few rows of the dataset\n",
        "print(df_imdb.head())\n",
        "\n",
        "# Check the structure of the dataset (columns, missing values)\n",
        "print(\"\\nDataset Information:\")\n",
        "df_imdb.info()\n",
        "\n",
        "# Check for missing values\n",
        "print(\"\\nMissing values:\")\n",
        "print(df_imdb.isnull().sum())\n"
      ],
      "metadata": {
        "colab": {
          "base_uri": "https://localhost:8080/"
        },
        "id": "8eg1I2TSxrWW",
        "outputId": "e873d511-5c7f-4b36-907e-2b1e624d4704"
      },
      "execution_count": 2,
      "outputs": [
        {
          "output_type": "stream",
          "name": "stdout",
          "text": [
            "                                         Poster_Link  \\\n",
            "0  https://m.media-amazon.com/images/M/MV5BMDFkYT...   \n",
            "1  https://m.media-amazon.com/images/M/MV5BM2MyNj...   \n",
            "2  https://m.media-amazon.com/images/M/MV5BMTMxNT...   \n",
            "3  https://m.media-amazon.com/images/M/MV5BMWMwMG...   \n",
            "4  https://m.media-amazon.com/images/M/MV5BMWU4N2...   \n",
            "\n",
            "               Series_Title Released_Year Certificate  Runtime  \\\n",
            "0  The Shawshank Redemption          1994           A  142 min   \n",
            "1             The Godfather          1972           A  175 min   \n",
            "2           The Dark Knight          2008          UA  152 min   \n",
            "3    The Godfather: Part II          1974           A  202 min   \n",
            "4              12 Angry Men          1957           U   96 min   \n",
            "\n",
            "                  Genre  IMDB_Rating  \\\n",
            "0                 Drama          9.3   \n",
            "1          Crime, Drama          9.2   \n",
            "2  Action, Crime, Drama          9.0   \n",
            "3          Crime, Drama          9.0   \n",
            "4          Crime, Drama          9.0   \n",
            "\n",
            "                                            Overview  Meta_score  \\\n",
            "0  Two imprisoned men bond over a number of years...        80.0   \n",
            "1  An organized crime dynasty's aging patriarch t...       100.0   \n",
            "2  When the menace known as the Joker wreaks havo...        84.0   \n",
            "3  The early life and career of Vito Corleone in ...        90.0   \n",
            "4  A jury holdout attempts to prevent a miscarria...        96.0   \n",
            "\n",
            "               Director           Star1           Star2          Star3  \\\n",
            "0        Frank Darabont     Tim Robbins  Morgan Freeman     Bob Gunton   \n",
            "1  Francis Ford Coppola   Marlon Brando       Al Pacino     James Caan   \n",
            "2     Christopher Nolan  Christian Bale    Heath Ledger  Aaron Eckhart   \n",
            "3  Francis Ford Coppola       Al Pacino  Robert De Niro  Robert Duvall   \n",
            "4          Sidney Lumet     Henry Fonda     Lee J. Cobb  Martin Balsam   \n",
            "\n",
            "            Star4  No_of_Votes        Gross  \n",
            "0  William Sadler      2343110   28,341,469  \n",
            "1    Diane Keaton      1620367  134,966,411  \n",
            "2   Michael Caine      2303232  534,858,444  \n",
            "3    Diane Keaton      1129952   57,300,000  \n",
            "4    John Fiedler       689845    4,360,000  \n",
            "\n",
            "Dataset Information:\n",
            "<class 'pandas.core.frame.DataFrame'>\n",
            "RangeIndex: 1000 entries, 0 to 999\n",
            "Data columns (total 16 columns):\n",
            " #   Column         Non-Null Count  Dtype  \n",
            "---  ------         --------------  -----  \n",
            " 0   Poster_Link    1000 non-null   object \n",
            " 1   Series_Title   1000 non-null   object \n",
            " 2   Released_Year  1000 non-null   object \n",
            " 3   Certificate    899 non-null    object \n",
            " 4   Runtime        1000 non-null   object \n",
            " 5   Genre          1000 non-null   object \n",
            " 6   IMDB_Rating    1000 non-null   float64\n",
            " 7   Overview       1000 non-null   object \n",
            " 8   Meta_score     843 non-null    float64\n",
            " 9   Director       1000 non-null   object \n",
            " 10  Star1          1000 non-null   object \n",
            " 11  Star2          1000 non-null   object \n",
            " 12  Star3          1000 non-null   object \n",
            " 13  Star4          1000 non-null   object \n",
            " 14  No_of_Votes    1000 non-null   int64  \n",
            " 15  Gross          831 non-null    object \n",
            "dtypes: float64(2), int64(1), object(13)\n",
            "memory usage: 125.1+ KB\n",
            "\n",
            "Missing values:\n",
            "Poster_Link        0\n",
            "Series_Title       0\n",
            "Released_Year      0\n",
            "Certificate      101\n",
            "Runtime            0\n",
            "Genre              0\n",
            "IMDB_Rating        0\n",
            "Overview           0\n",
            "Meta_score       157\n",
            "Director           0\n",
            "Star1              0\n",
            "Star2              0\n",
            "Star3              0\n",
            "Star4              0\n",
            "No_of_Votes        0\n",
            "Gross            169\n",
            "dtype: int64\n"
          ]
        }
      ]
    },
    {
      "cell_type": "code",
      "source": [
        "# Check for missing values\n",
        "print(\"\\nMissing values in the IMDB dataset:\")\n",
        "print(df_imdb.isnull().sum())\n",
        "\n",
        "# Fill missing values if necessary or drop rows/columns with missing data\n",
        "df_imdb['Meta_score'].fillna(df_imdb['Meta_score'].mean(), inplace=True)\n",
        "df_imdb['Runtime'].fillna(df_imdb['Runtime'].mode()[0], inplace=True)\n",
        "\n",
        "# Drop rows with missing values in important columns (e.g., Series_Title, Genre, IMDB_Rating)\n",
        "df_imdb.dropna(subset=['Series_Title', 'Genre', 'IMDB_Rating'], inplace=True)\n"
      ],
      "metadata": {
        "colab": {
          "base_uri": "https://localhost:8080/"
        },
        "id": "FaFq5Ym_xymW",
        "outputId": "20ad02f7-f881-4bca-eb5e-820025852b47"
      },
      "execution_count": 3,
      "outputs": [
        {
          "output_type": "stream",
          "name": "stdout",
          "text": [
            "\n",
            "Missing values in the IMDB dataset:\n",
            "Poster_Link        0\n",
            "Series_Title       0\n",
            "Released_Year      0\n",
            "Certificate      101\n",
            "Runtime            0\n",
            "Genre              0\n",
            "IMDB_Rating        0\n",
            "Overview           0\n",
            "Meta_score       157\n",
            "Director           0\n",
            "Star1              0\n",
            "Star2              0\n",
            "Star3              0\n",
            "Star4              0\n",
            "No_of_Votes        0\n",
            "Gross            169\n",
            "dtype: int64\n"
          ]
        },
        {
          "output_type": "stream",
          "name": "stderr",
          "text": [
            "<ipython-input-3-2c5e2d327bf8>:6: FutureWarning: A value is trying to be set on a copy of a DataFrame or Series through chained assignment using an inplace method.\n",
            "The behavior will change in pandas 3.0. This inplace method will never work because the intermediate object on which we are setting values always behaves as a copy.\n",
            "\n",
            "For example, when doing 'df[col].method(value, inplace=True)', try using 'df.method({col: value}, inplace=True)' or df[col] = df[col].method(value) instead, to perform the operation inplace on the original object.\n",
            "\n",
            "\n",
            "  df_imdb['Meta_score'].fillna(df_imdb['Meta_score'].mean(), inplace=True)\n",
            "<ipython-input-3-2c5e2d327bf8>:7: FutureWarning: A value is trying to be set on a copy of a DataFrame or Series through chained assignment using an inplace method.\n",
            "The behavior will change in pandas 3.0. This inplace method will never work because the intermediate object on which we are setting values always behaves as a copy.\n",
            "\n",
            "For example, when doing 'df[col].method(value, inplace=True)', try using 'df.method({col: value}, inplace=True)' or df[col] = df[col].method(value) instead, to perform the operation inplace on the original object.\n",
            "\n",
            "\n",
            "  df_imdb['Runtime'].fillna(df_imdb['Runtime'].mode()[0], inplace=True)\n"
          ]
        }
      ]
    },
    {
      "cell_type": "code",
      "source": [
        "# Handle missing values\n",
        "\n",
        "# Fill missing 'Meta_score' with the mean of the column\n",
        "df_imdb['Meta_score'] = df_imdb['Meta_score'].fillna(df_imdb['Meta_score'].mean())\n",
        "\n",
        "# Fill missing 'Runtime' with the most frequent value (mode)\n",
        "df_imdb['Runtime'] = df_imdb['Runtime'].fillna(df_imdb['Runtime'].mode()[0])\n",
        "\n",
        "# Drop rows with missing 'Series_Title', 'Genre', or 'IMDB_Rating'\n",
        "df_imdb.dropna(subset=['Series_Title', 'Genre', 'IMDB_Rating'], inplace=True)\n",
        "\n",
        "# Optionally fill missing 'Certificate' with 'Not Available' or a placeholder\n",
        "df_imdb['Certificate'] = df_imdb['Certificate'].fillna('Not Available')\n",
        "\n",
        "# Optionally fill missing 'Gross' with 0 or a placeholder if this column is essential\n",
        "df_imdb['Gross'] = df_imdb['Gross'].fillna(0)\n",
        "\n",
        "# Check again for missing values\n",
        "print(\"\\nMissing values after handling:\")\n",
        "print(df_imdb.isnull().sum())\n"
      ],
      "metadata": {
        "colab": {
          "base_uri": "https://localhost:8080/"
        },
        "id": "JRnvZvr-x7YV",
        "outputId": "a4833ad3-734f-4ffc-fe4d-aaaec03fb23f"
      },
      "execution_count": 4,
      "outputs": [
        {
          "output_type": "stream",
          "name": "stdout",
          "text": [
            "\n",
            "Missing values after handling:\n",
            "Poster_Link      0\n",
            "Series_Title     0\n",
            "Released_Year    0\n",
            "Certificate      0\n",
            "Runtime          0\n",
            "Genre            0\n",
            "IMDB_Rating      0\n",
            "Overview         0\n",
            "Meta_score       0\n",
            "Director         0\n",
            "Star1            0\n",
            "Star2            0\n",
            "Star3            0\n",
            "Star4            0\n",
            "No_of_Votes      0\n",
            "Gross            0\n",
            "dtype: int64\n"
          ]
        }
      ]
    },
    {
      "cell_type": "code",
      "source": [
        "# Clean the 'Runtime' column by extracting the numeric part\n",
        "df_imdb['Runtime'] = df_imdb['Runtime'].str.extract('(\\d+)').astype(float)\n",
        "\n",
        "# Verify the changes\n",
        "print(\"\\nUnique values in 'Runtime' after cleaning:\")\n",
        "print(df_imdb['Runtime'].unique())\n"
      ],
      "metadata": {
        "colab": {
          "base_uri": "https://localhost:8080/"
        },
        "id": "AtSX4l3OyF0U",
        "outputId": "f6649f19-2b9a-4f44-e3d2-3f6b676e5c95"
      },
      "execution_count": 5,
      "outputs": [
        {
          "output_type": "stream",
          "name": "stdout",
          "text": [
            "\n",
            "Unique values in 'Runtime' after cleaning:\n",
            "[142. 175. 152. 202.  96. 201. 154. 195. 148. 139. 178. 161. 179. 136.\n",
            " 146. 124. 133. 160. 132. 153. 169. 130. 125. 189. 116. 127. 118. 121.\n",
            " 207. 122. 106. 112. 151. 150. 155. 119. 110.  88. 137.  89. 165. 109.\n",
            " 102.  87. 126. 147. 117. 181. 149. 105. 164. 170.  98. 101. 113. 134.\n",
            " 229. 115. 143.  95. 104. 123. 131. 108.  81.  99. 114. 129. 228. 128.\n",
            " 103. 107.  68. 138. 156. 167. 163. 186. 321. 135. 140. 180. 158. 210.\n",
            "  86. 162. 177. 204.  91. 172.  45. 145. 100. 196.  93. 120.  92. 144.\n",
            "  80. 183. 111. 141. 224. 171. 188.  94. 185.  85. 205. 212. 238.  72.\n",
            "  67.  76. 159.  83.  90.  84. 191. 197. 174.  97.  75. 157. 209.  82.\n",
            " 220.  64. 184. 168. 166. 192. 194. 193.  69.  70. 242.  79.  71.  78.]\n"
          ]
        }
      ]
    },
    {
      "cell_type": "code",
      "source": [
        "# Split the 'Genre' column into individual genres and create a binary matrix\n",
        "genre_dummies = df_imdb['Genre'].str.get_dummies(sep=', ')\n",
        "\n",
        "# Merge the new genre columns into the dataframe\n",
        "df_imdb = pd.concat([df_imdb, genre_dummies], axis=1)\n",
        "\n",
        "# Check the first few rows to verify the changes\n",
        "print(\"\\nDataframe with one-hot encoded genres:\")\n",
        "print(df_imdb.head())\n"
      ],
      "metadata": {
        "colab": {
          "base_uri": "https://localhost:8080/"
        },
        "id": "Z0nN-p5dyJpo",
        "outputId": "bc6dfd97-3da7-4092-f3d8-d4b2514f4a64"
      },
      "execution_count": 6,
      "outputs": [
        {
          "output_type": "stream",
          "name": "stdout",
          "text": [
            "\n",
            "Dataframe with one-hot encoded genres:\n",
            "                                         Poster_Link  \\\n",
            "0  https://m.media-amazon.com/images/M/MV5BMDFkYT...   \n",
            "1  https://m.media-amazon.com/images/M/MV5BM2MyNj...   \n",
            "2  https://m.media-amazon.com/images/M/MV5BMTMxNT...   \n",
            "3  https://m.media-amazon.com/images/M/MV5BMWMwMG...   \n",
            "4  https://m.media-amazon.com/images/M/MV5BMWU4N2...   \n",
            "\n",
            "               Series_Title Released_Year Certificate  Runtime  \\\n",
            "0  The Shawshank Redemption          1994           A    142.0   \n",
            "1             The Godfather          1972           A    175.0   \n",
            "2           The Dark Knight          2008          UA    152.0   \n",
            "3    The Godfather: Part II          1974           A    202.0   \n",
            "4              12 Angry Men          1957           U     96.0   \n",
            "\n",
            "                  Genre  IMDB_Rating  \\\n",
            "0                 Drama          9.3   \n",
            "1          Crime, Drama          9.2   \n",
            "2  Action, Crime, Drama          9.0   \n",
            "3          Crime, Drama          9.0   \n",
            "4          Crime, Drama          9.0   \n",
            "\n",
            "                                            Overview  Meta_score  \\\n",
            "0  Two imprisoned men bond over a number of years...        80.0   \n",
            "1  An organized crime dynasty's aging patriarch t...       100.0   \n",
            "2  When the menace known as the Joker wreaks havo...        84.0   \n",
            "3  The early life and career of Vito Corleone in ...        90.0   \n",
            "4  A jury holdout attempts to prevent a miscarria...        96.0   \n",
            "\n",
            "               Director  ... Horror Music Musical Mystery  Romance Sci-Fi  \\\n",
            "0        Frank Darabont  ...      0     0       0       0        0      0   \n",
            "1  Francis Ford Coppola  ...      0     0       0       0        0      0   \n",
            "2     Christopher Nolan  ...      0     0       0       0        0      0   \n",
            "3  Francis Ford Coppola  ...      0     0       0       0        0      0   \n",
            "4          Sidney Lumet  ...      0     0       0       0        0      0   \n",
            "\n",
            "   Sport  Thriller  War  Western  \n",
            "0      0         0    0        0  \n",
            "1      0         0    0        0  \n",
            "2      0         0    0        0  \n",
            "3      0         0    0        0  \n",
            "4      0         0    0        0  \n",
            "\n",
            "[5 rows x 37 columns]\n"
          ]
        }
      ]
    },
    {
      "cell_type": "code",
      "source": [
        "# One-hot encode the 'Certificate' column\n",
        "certificate_dummies = pd.get_dummies(df_imdb['Certificate'], prefix='Certificate')\n",
        "\n",
        "# Concatenate the one-hot encoded certificate columns to the dataframe\n",
        "df_imdb = pd.concat([df_imdb, certificate_dummies], axis=1)\n",
        "\n",
        "# Drop the original 'Certificate' column as it is now encoded\n",
        "df_imdb.drop(columns=['Certificate'], inplace=True)\n"
      ],
      "metadata": {
        "id": "c2Cu6jUgyUB0"
      },
      "execution_count": 9,
      "outputs": []
    },
    {
      "cell_type": "code",
      "source": [
        "# Fill any missing values in 'IMDB_Rating' and 'Meta_score' with the mean\n",
        "df_imdb['IMDB_Rating'].fillna(df_imdb['IMDB_Rating'].mean(), inplace=True)\n",
        "df_imdb['Meta_score'].fillna(df_imdb['Meta_score'].mean(), inplace=True)\n"
      ],
      "metadata": {
        "colab": {
          "base_uri": "https://localhost:8080/"
        },
        "id": "RpRteIT9yr1C",
        "outputId": "76d14a19-67de-455a-82b7-4c942c92ac11"
      },
      "execution_count": 10,
      "outputs": [
        {
          "output_type": "stream",
          "name": "stderr",
          "text": [
            "<ipython-input-10-f9b0f81788f9>:2: FutureWarning: A value is trying to be set on a copy of a DataFrame or Series through chained assignment using an inplace method.\n",
            "The behavior will change in pandas 3.0. This inplace method will never work because the intermediate object on which we are setting values always behaves as a copy.\n",
            "\n",
            "For example, when doing 'df[col].method(value, inplace=True)', try using 'df.method({col: value}, inplace=True)' or df[col] = df[col].method(value) instead, to perform the operation inplace on the original object.\n",
            "\n",
            "\n",
            "  df_imdb['IMDB_Rating'].fillna(df_imdb['IMDB_Rating'].mean(), inplace=True)\n",
            "<ipython-input-10-f9b0f81788f9>:3: FutureWarning: A value is trying to be set on a copy of a DataFrame or Series through chained assignment using an inplace method.\n",
            "The behavior will change in pandas 3.0. This inplace method will never work because the intermediate object on which we are setting values always behaves as a copy.\n",
            "\n",
            "For example, when doing 'df[col].method(value, inplace=True)', try using 'df.method({col: value}, inplace=True)' or df[col] = df[col].method(value) instead, to perform the operation inplace on the original object.\n",
            "\n",
            "\n",
            "  df_imdb['Meta_score'].fillna(df_imdb['Meta_score'].mean(), inplace=True)\n"
          ]
        }
      ]
    },
    {
      "cell_type": "code",
      "source": [
        "# Define features (X) and target variable (y)\n",
        "X = df_imdb.drop(columns=['IMDB_Rating', 'Series_Title', 'Poster_Link', 'Overview'])  # Drop non-numeric features\n",
        "y = df_imdb['IMDB_Rating']  # Target variable (IMDB Rating)\n"
      ],
      "metadata": {
        "id": "QLcJMrT5yw2A"
      },
      "execution_count": 11,
      "outputs": []
    },
    {
      "cell_type": "code",
      "source": [
        "from sklearn.model_selection import train_test_split\n",
        "\n",
        "# Split the data into training and testing sets\n",
        "X_train, X_test, y_train, y_test = train_test_split(X, y, test_size=0.2, random_state=42)\n",
        "\n",
        "print(f\"Training set size: {X_train.shape[0]}\")\n",
        "print(f\"Test set size: {X_test.shape[0]}\")\n"
      ],
      "metadata": {
        "colab": {
          "base_uri": "https://localhost:8080/"
        },
        "id": "FJ4N7sUxyz2R",
        "outputId": "99de783b-8456-4552-d17a-dce6ec9bd062"
      },
      "execution_count": 12,
      "outputs": [
        {
          "output_type": "stream",
          "name": "stdout",
          "text": [
            "Training set size: 800\n",
            "Test set size: 200\n"
          ]
        }
      ]
    },
    {
      "cell_type": "code",
      "source": [
        "# One-hot encode the 'Genre' column (splitting multiple genres into separate columns)\n",
        "df_imdb_genres = df_imdb['Genre'].str.get_dummies(sep=', ')\n",
        "\n",
        "# Combine the encoded genres with the rest of the dataset (except for 'Genre' column)\n",
        "df_imdb_clean = df_imdb.drop(columns=['Genre'])\n",
        "df_imdb_clean = pd.concat([df_imdb_clean, df_imdb_genres], axis=1)\n",
        "\n",
        "# Handle missing values: fill with the mean for 'Meta_score' and 'Runtime'\n",
        "df_imdb_clean['Meta_score'].fillna(df_imdb_clean['Meta_score'].mean(), inplace=True)\n",
        "df_imdb_clean['Runtime'] = df_imdb_clean['Runtime'].apply(lambda x: str(x).replace(' min', '') if isinstance(x, str) else x)\n",
        "df_imdb_clean['Runtime'] = pd.to_numeric(df_imdb_clean['Runtime'], errors='coerce')\n",
        "df_imdb_clean['Runtime'].fillna(df_imdb_clean['Runtime'].mean(), inplace=True)\n",
        "\n",
        "# Now we have the cleaned dataset with one-hot encoded genres\n",
        "df_imdb_clean.info()  # Check the structure after preprocessing\n"
      ],
      "metadata": {
        "colab": {
          "base_uri": "https://localhost:8080/"
        },
        "id": "-Z1BPQ9vy3p6",
        "outputId": "d1d8e9e2-71e1-4463-c32b-853bca609f5f"
      },
      "execution_count": 15,
      "outputs": [
        {
          "output_type": "stream",
          "name": "stdout",
          "text": [
            "<class 'pandas.core.frame.DataFrame'>\n",
            "RangeIndex: 1000 entries, 0 to 999\n",
            "Data columns (total 73 columns):\n",
            " #   Column                     Non-Null Count  Dtype  \n",
            "---  ------                     --------------  -----  \n",
            " 0   Poster_Link                1000 non-null   object \n",
            " 1   Series_Title               1000 non-null   object \n",
            " 2   Released_Year              1000 non-null   object \n",
            " 3   Runtime                    1000 non-null   float64\n",
            " 4   IMDB_Rating                1000 non-null   float64\n",
            " 5   Overview                   1000 non-null   object \n",
            " 6   Meta_score                 1000 non-null   float64\n",
            " 7   Director                   1000 non-null   object \n",
            " 8   Star1                      1000 non-null   object \n",
            " 9   Star2                      1000 non-null   object \n",
            " 10  Star3                      1000 non-null   object \n",
            " 11  Star4                      1000 non-null   object \n",
            " 12  No_of_Votes                1000 non-null   int64  \n",
            " 13  Gross                      1000 non-null   object \n",
            " 14  Action                     1000 non-null   int64  \n",
            " 15  Adventure                  1000 non-null   int64  \n",
            " 16  Animation                  1000 non-null   int64  \n",
            " 17  Biography                  1000 non-null   int64  \n",
            " 18  Comedy                     1000 non-null   int64  \n",
            " 19  Crime                      1000 non-null   int64  \n",
            " 20  Drama                      1000 non-null   int64  \n",
            " 21  Family                     1000 non-null   int64  \n",
            " 22  Fantasy                    1000 non-null   int64  \n",
            " 23  Film-Noir                  1000 non-null   int64  \n",
            " 24  History                    1000 non-null   int64  \n",
            " 25  Horror                     1000 non-null   int64  \n",
            " 26  Music                      1000 non-null   int64  \n",
            " 27  Musical                    1000 non-null   int64  \n",
            " 28  Mystery                    1000 non-null   int64  \n",
            " 29  Romance                    1000 non-null   int64  \n",
            " 30  Sci-Fi                     1000 non-null   int64  \n",
            " 31  Sport                      1000 non-null   int64  \n",
            " 32  Thriller                   1000 non-null   int64  \n",
            " 33  War                        1000 non-null   int64  \n",
            " 34  Western                    1000 non-null   int64  \n",
            " 35  Certificate_16             1000 non-null   bool   \n",
            " 36  Certificate_A              1000 non-null   bool   \n",
            " 37  Certificate_Approved       1000 non-null   bool   \n",
            " 38  Certificate_G              1000 non-null   bool   \n",
            " 39  Certificate_GP             1000 non-null   bool   \n",
            " 40  Certificate_Not Available  1000 non-null   bool   \n",
            " 41  Certificate_PG             1000 non-null   bool   \n",
            " 42  Certificate_PG-13          1000 non-null   bool   \n",
            " 43  Certificate_Passed         1000 non-null   bool   \n",
            " 44  Certificate_R              1000 non-null   bool   \n",
            " 45  Certificate_TV-14          1000 non-null   bool   \n",
            " 46  Certificate_TV-MA          1000 non-null   bool   \n",
            " 47  Certificate_TV-PG          1000 non-null   bool   \n",
            " 48  Certificate_U              1000 non-null   bool   \n",
            " 49  Certificate_U/A            1000 non-null   bool   \n",
            " 50  Certificate_UA             1000 non-null   bool   \n",
            " 51  Certificate_Unrated        1000 non-null   bool   \n",
            " 52  Action                     1000 non-null   int64  \n",
            " 53  Adventure                  1000 non-null   int64  \n",
            " 54  Animation                  1000 non-null   int64  \n",
            " 55  Biography                  1000 non-null   int64  \n",
            " 56  Comedy                     1000 non-null   int64  \n",
            " 57  Crime                      1000 non-null   int64  \n",
            " 58  Drama                      1000 non-null   int64  \n",
            " 59  Family                     1000 non-null   int64  \n",
            " 60  Fantasy                    1000 non-null   int64  \n",
            " 61  Film-Noir                  1000 non-null   int64  \n",
            " 62  History                    1000 non-null   int64  \n",
            " 63  Horror                     1000 non-null   int64  \n",
            " 64  Music                      1000 non-null   int64  \n",
            " 65  Musical                    1000 non-null   int64  \n",
            " 66  Mystery                    1000 non-null   int64  \n",
            " 67  Romance                    1000 non-null   int64  \n",
            " 68  Sci-Fi                     1000 non-null   int64  \n",
            " 69  Sport                      1000 non-null   int64  \n",
            " 70  Thriller                   1000 non-null   int64  \n",
            " 71  War                        1000 non-null   int64  \n",
            " 72  Western                    1000 non-null   int64  \n",
            "dtypes: bool(17), float64(3), int64(43), object(10)\n",
            "memory usage: 454.2+ KB\n"
          ]
        },
        {
          "output_type": "stream",
          "name": "stderr",
          "text": [
            "<ipython-input-15-ae5f5897586f>:9: FutureWarning: A value is trying to be set on a copy of a DataFrame or Series through chained assignment using an inplace method.\n",
            "The behavior will change in pandas 3.0. This inplace method will never work because the intermediate object on which we are setting values always behaves as a copy.\n",
            "\n",
            "For example, when doing 'df[col].method(value, inplace=True)', try using 'df.method({col: value}, inplace=True)' or df[col] = df[col].method(value) instead, to perform the operation inplace on the original object.\n",
            "\n",
            "\n",
            "  df_imdb_clean['Meta_score'].fillna(df_imdb_clean['Meta_score'].mean(), inplace=True)\n",
            "<ipython-input-15-ae5f5897586f>:12: FutureWarning: A value is trying to be set on a copy of a DataFrame or Series through chained assignment using an inplace method.\n",
            "The behavior will change in pandas 3.0. This inplace method will never work because the intermediate object on which we are setting values always behaves as a copy.\n",
            "\n",
            "For example, when doing 'df[col].method(value, inplace=True)', try using 'df.method({col: value}, inplace=True)' or df[col] = df[col].method(value) instead, to perform the operation inplace on the original object.\n",
            "\n",
            "\n",
            "  df_imdb_clean['Runtime'].fillna(df_imdb_clean['Runtime'].mean(), inplace=True)\n"
          ]
        }
      ]
    },
    {
      "cell_type": "code",
      "source": [
        "# Check the data types of your features (X_train)\n",
        "print(X_train.dtypes)\n",
        "\n",
        "# Check for missing values\n",
        "print(X_train.isnull().sum())\n"
      ],
      "metadata": {
        "colab": {
          "base_uri": "https://localhost:8080/"
        },
        "id": "PzLZv1sH0XZQ",
        "outputId": "1bf78adb-9382-43cf-8c94-e9fad55e18bc"
      },
      "execution_count": 20,
      "outputs": [
        {
          "output_type": "stream",
          "name": "stdout",
          "text": [
            "Released_Year                 object\n",
            "Runtime                      float64\n",
            "Genre                         object\n",
            "Meta_score                   float64\n",
            "No_of_Votes                    int64\n",
            "Action                         int64\n",
            "Adventure                      int64\n",
            "Animation                      int64\n",
            "Biography                      int64\n",
            "Comedy                         int64\n",
            "Crime                          int64\n",
            "Drama                          int64\n",
            "Family                         int64\n",
            "Fantasy                        int64\n",
            "Film-Noir                      int64\n",
            "History                        int64\n",
            "Horror                         int64\n",
            "Music                          int64\n",
            "Musical                        int64\n",
            "Mystery                        int64\n",
            "Romance                        int64\n",
            "Sci-Fi                         int64\n",
            "Sport                          int64\n",
            "Thriller                       int64\n",
            "War                            int64\n",
            "Western                        int64\n",
            "Certificate_16                  bool\n",
            "Certificate_A                   bool\n",
            "Certificate_Approved            bool\n",
            "Certificate_G                   bool\n",
            "Certificate_GP                  bool\n",
            "Certificate_Not Available       bool\n",
            "Certificate_PG                  bool\n",
            "Certificate_PG-13               bool\n",
            "Certificate_Passed              bool\n",
            "Certificate_R                   bool\n",
            "Certificate_TV-14               bool\n",
            "Certificate_TV-MA               bool\n",
            "Certificate_TV-PG               bool\n",
            "Certificate_U                   bool\n",
            "Certificate_U/A                 bool\n",
            "Certificate_UA                  bool\n",
            "Certificate_Unrated             bool\n",
            "dtype: object\n",
            "Released_Year                0\n",
            "Runtime                      0\n",
            "Genre                        0\n",
            "Meta_score                   0\n",
            "No_of_Votes                  0\n",
            "Action                       0\n",
            "Adventure                    0\n",
            "Animation                    0\n",
            "Biography                    0\n",
            "Comedy                       0\n",
            "Crime                        0\n",
            "Drama                        0\n",
            "Family                       0\n",
            "Fantasy                      0\n",
            "Film-Noir                    0\n",
            "History                      0\n",
            "Horror                       0\n",
            "Music                        0\n",
            "Musical                      0\n",
            "Mystery                      0\n",
            "Romance                      0\n",
            "Sci-Fi                       0\n",
            "Sport                        0\n",
            "Thriller                     0\n",
            "War                          0\n",
            "Western                      0\n",
            "Certificate_16               0\n",
            "Certificate_A                0\n",
            "Certificate_Approved         0\n",
            "Certificate_G                0\n",
            "Certificate_GP               0\n",
            "Certificate_Not Available    0\n",
            "Certificate_PG               0\n",
            "Certificate_PG-13            0\n",
            "Certificate_Passed           0\n",
            "Certificate_R                0\n",
            "Certificate_TV-14            0\n",
            "Certificate_TV-MA            0\n",
            "Certificate_TV-PG            0\n",
            "Certificate_U                0\n",
            "Certificate_U/A              0\n",
            "Certificate_UA               0\n",
            "Certificate_Unrated          0\n",
            "dtype: int64\n"
          ]
        }
      ]
    },
    {
      "cell_type": "code",
      "source": [
        "# Convert Released_Year to numeric (if possible)\n",
        "df_imdb['Released_Year'] = pd.to_numeric(df_imdb['Released_Year'], errors='coerce')\n"
      ],
      "metadata": {
        "id": "oufTGM6F0eDE"
      },
      "execution_count": 21,
      "outputs": []
    },
    {
      "cell_type": "code",
      "source": [
        "# One-hot encode the 'Genre' column\n",
        "df_imdb_genres = df_imdb['Genre'].str.get_dummies(', ')\n",
        "\n",
        "# Concatenate with the rest of the dataframe\n",
        "df_imdb = pd.concat([df_imdb, df_imdb_genres], axis=1)\n",
        "\n",
        "# Drop the original Genre column\n",
        "df_imdb.drop(columns=['Genre'], inplace=True)\n"
      ],
      "metadata": {
        "id": "IBbRK4ZB0guR"
      },
      "execution_count": 22,
      "outputs": []
    },
    {
      "cell_type": "code",
      "source": [
        "# Drop certificate columns if not relevant\n",
        "df_imdb.drop(columns=[col for col in df_imdb.columns if 'Certificate' in col], inplace=True)\n"
      ],
      "metadata": {
        "id": "ORQSfpd80jyX"
      },
      "execution_count": 23,
      "outputs": []
    },
    {
      "cell_type": "code",
      "source": [
        "# Check the final dataframe shape\n",
        "print(df_imdb.shape)\n"
      ],
      "metadata": {
        "colab": {
          "base_uri": "https://localhost:8080/"
        },
        "id": "hBNrDvMx0pf5",
        "outputId": "cd791723-f0be-422f-f5d5-74ac4d190eff"
      },
      "execution_count": 24,
      "outputs": [
        {
          "output_type": "stream",
          "name": "stdout",
          "text": [
            "(1000, 56)\n"
          ]
        }
      ]
    },
    {
      "cell_type": "code",
      "source": [
        "# Check the type of y_train and convert if needed\n",
        "print(y_train.head())\n",
        "\n",
        "# If it's categorical, use label encoding\n",
        "from sklearn.preprocessing import LabelEncoder\n",
        "encoder = LabelEncoder()\n",
        "y_train = encoder.fit_transform(y_train)\n",
        "y_test = encoder.transform(y_test)\n"
      ],
      "metadata": {
        "colab": {
          "base_uri": "https://localhost:8080/"
        },
        "id": "h692PWqx0uoA",
        "outputId": "2d4a3780-71bb-4948-c5cb-147f5d5da426"
      },
      "execution_count": 26,
      "outputs": [
        {
          "output_type": "stream",
          "name": "stdout",
          "text": [
            "29     8.6\n",
            "535    7.9\n",
            "695    7.8\n",
            "557    7.9\n",
            "836    7.7\n",
            "Name: IMDB_Rating, dtype: float64\n"
          ]
        }
      ]
    },
    {
      "cell_type": "code",
      "source": [
        "# Check the shape of X_train\n",
        "print(X_train.shape)\n",
        "\n",
        "# Ensure that the features are correctly encoded as numeric\n",
        "X_train.head()\n"
      ],
      "metadata": {
        "colab": {
          "base_uri": "https://localhost:8080/",
          "height": 673
        },
        "id": "Bj5lCqXS1FFS",
        "outputId": "e7d0b9f2-3fd9-44f6-b988-d11019a22449"
      },
      "execution_count": 27,
      "outputs": [
        {
          "output_type": "stream",
          "name": "stdout",
          "text": [
            "(800, 55)\n"
          ]
        },
        {
          "output_type": "execute_result",
          "data": {
            "text/plain": [
              "                                           Poster_Link           Series_Title  \\\n",
              "29   https://m.media-amazon.com/images/M/MV5BNzVlY2...              Star Wars   \n",
              "535  https://m.media-amazon.com/images/M/MV5BMzc1YT...       Dawn of the Dead   \n",
              "695  https://m.media-amazon.com/images/M/MV5BNjZmMW...  The Day of the Jackal   \n",
              "557  https://m.media-amazon.com/images/M/MV5BMzg2YT...                 Harvey   \n",
              "836  https://m.media-amazon.com/images/M/MV5BMTUxMj...            After Hours   \n",
              "\n",
              "     Released_Year  Runtime  \\\n",
              "29          1977.0    121.0   \n",
              "535         1978.0    127.0   \n",
              "695         1973.0    143.0   \n",
              "557         1950.0    104.0   \n",
              "836         1985.0     97.0   \n",
              "\n",
              "                                              Overview  Meta_score  \\\n",
              "29   Luke Skywalker joins forces with a Jedi Knight...    90.00000   \n",
              "535  Following an ever-growing epidemic of zombies ...    71.00000   \n",
              "695  A professional assassin codenamed \"Jackal\" plo...    80.00000   \n",
              "557  Due to his insistence that he has an invisible...    77.97153   \n",
              "836  An ordinary word processor has the worst night...    90.00000   \n",
              "\n",
              "             Director          Star1              Star2              Star3  \\\n",
              "29       George Lucas    Mark Hamill      Harrison Ford      Carrie Fisher   \n",
              "535  George A. Romero     David Emge          Ken Foree  Scott H. Reiniger   \n",
              "695    Fred Zinnemann     Edward Fox  Terence Alexander     Michel Auclair   \n",
              "557      Henry Koster  James Stewart       Wallace Ford    William H. Lynn   \n",
              "836   Martin Scorsese  Griffin Dunne   Rosanna Arquette        Verna Bloom   \n",
              "\n",
              "     ... Horror  Music Musical  Mystery  Romance  Sci-Fi  Sport  Thriller  \\\n",
              "29   ...      0      0       0        0        0       0      0         0   \n",
              "535  ...      1      0       0        0        0       0      0         0   \n",
              "695  ...      0      0       0        0        0       0      0         1   \n",
              "557  ...      0      0       0        0        0       0      0         0   \n",
              "836  ...      0      0       0        0        0       0      0         0   \n",
              "\n",
              "     War  Western  \n",
              "29     0        0  \n",
              "535    0        0  \n",
              "695    0        0  \n",
              "557    0        0  \n",
              "836    0        0  \n",
              "\n",
              "[5 rows x 55 columns]"
            ],
            "text/html": [
              "\n",
              "  <div id=\"df-4d3cfec7-8fc3-4f36-b4b0-9b4f2f06d0df\" class=\"colab-df-container\">\n",
              "    <div>\n",
              "<style scoped>\n",
              "    .dataframe tbody tr th:only-of-type {\n",
              "        vertical-align: middle;\n",
              "    }\n",
              "\n",
              "    .dataframe tbody tr th {\n",
              "        vertical-align: top;\n",
              "    }\n",
              "\n",
              "    .dataframe thead th {\n",
              "        text-align: right;\n",
              "    }\n",
              "</style>\n",
              "<table border=\"1\" class=\"dataframe\">\n",
              "  <thead>\n",
              "    <tr style=\"text-align: right;\">\n",
              "      <th></th>\n",
              "      <th>Poster_Link</th>\n",
              "      <th>Series_Title</th>\n",
              "      <th>Released_Year</th>\n",
              "      <th>Runtime</th>\n",
              "      <th>Overview</th>\n",
              "      <th>Meta_score</th>\n",
              "      <th>Director</th>\n",
              "      <th>Star1</th>\n",
              "      <th>Star2</th>\n",
              "      <th>Star3</th>\n",
              "      <th>...</th>\n",
              "      <th>Horror</th>\n",
              "      <th>Music</th>\n",
              "      <th>Musical</th>\n",
              "      <th>Mystery</th>\n",
              "      <th>Romance</th>\n",
              "      <th>Sci-Fi</th>\n",
              "      <th>Sport</th>\n",
              "      <th>Thriller</th>\n",
              "      <th>War</th>\n",
              "      <th>Western</th>\n",
              "    </tr>\n",
              "  </thead>\n",
              "  <tbody>\n",
              "    <tr>\n",
              "      <th>29</th>\n",
              "      <td>https://m.media-amazon.com/images/M/MV5BNzVlY2...</td>\n",
              "      <td>Star Wars</td>\n",
              "      <td>1977.0</td>\n",
              "      <td>121.0</td>\n",
              "      <td>Luke Skywalker joins forces with a Jedi Knight...</td>\n",
              "      <td>90.00000</td>\n",
              "      <td>George Lucas</td>\n",
              "      <td>Mark Hamill</td>\n",
              "      <td>Harrison Ford</td>\n",
              "      <td>Carrie Fisher</td>\n",
              "      <td>...</td>\n",
              "      <td>0</td>\n",
              "      <td>0</td>\n",
              "      <td>0</td>\n",
              "      <td>0</td>\n",
              "      <td>0</td>\n",
              "      <td>0</td>\n",
              "      <td>0</td>\n",
              "      <td>0</td>\n",
              "      <td>0</td>\n",
              "      <td>0</td>\n",
              "    </tr>\n",
              "    <tr>\n",
              "      <th>535</th>\n",
              "      <td>https://m.media-amazon.com/images/M/MV5BMzc1YT...</td>\n",
              "      <td>Dawn of the Dead</td>\n",
              "      <td>1978.0</td>\n",
              "      <td>127.0</td>\n",
              "      <td>Following an ever-growing epidemic of zombies ...</td>\n",
              "      <td>71.00000</td>\n",
              "      <td>George A. Romero</td>\n",
              "      <td>David Emge</td>\n",
              "      <td>Ken Foree</td>\n",
              "      <td>Scott H. Reiniger</td>\n",
              "      <td>...</td>\n",
              "      <td>1</td>\n",
              "      <td>0</td>\n",
              "      <td>0</td>\n",
              "      <td>0</td>\n",
              "      <td>0</td>\n",
              "      <td>0</td>\n",
              "      <td>0</td>\n",
              "      <td>0</td>\n",
              "      <td>0</td>\n",
              "      <td>0</td>\n",
              "    </tr>\n",
              "    <tr>\n",
              "      <th>695</th>\n",
              "      <td>https://m.media-amazon.com/images/M/MV5BNjZmMW...</td>\n",
              "      <td>The Day of the Jackal</td>\n",
              "      <td>1973.0</td>\n",
              "      <td>143.0</td>\n",
              "      <td>A professional assassin codenamed \"Jackal\" plo...</td>\n",
              "      <td>80.00000</td>\n",
              "      <td>Fred Zinnemann</td>\n",
              "      <td>Edward Fox</td>\n",
              "      <td>Terence Alexander</td>\n",
              "      <td>Michel Auclair</td>\n",
              "      <td>...</td>\n",
              "      <td>0</td>\n",
              "      <td>0</td>\n",
              "      <td>0</td>\n",
              "      <td>0</td>\n",
              "      <td>0</td>\n",
              "      <td>0</td>\n",
              "      <td>0</td>\n",
              "      <td>1</td>\n",
              "      <td>0</td>\n",
              "      <td>0</td>\n",
              "    </tr>\n",
              "    <tr>\n",
              "      <th>557</th>\n",
              "      <td>https://m.media-amazon.com/images/M/MV5BMzg2YT...</td>\n",
              "      <td>Harvey</td>\n",
              "      <td>1950.0</td>\n",
              "      <td>104.0</td>\n",
              "      <td>Due to his insistence that he has an invisible...</td>\n",
              "      <td>77.97153</td>\n",
              "      <td>Henry Koster</td>\n",
              "      <td>James Stewart</td>\n",
              "      <td>Wallace Ford</td>\n",
              "      <td>William H. Lynn</td>\n",
              "      <td>...</td>\n",
              "      <td>0</td>\n",
              "      <td>0</td>\n",
              "      <td>0</td>\n",
              "      <td>0</td>\n",
              "      <td>0</td>\n",
              "      <td>0</td>\n",
              "      <td>0</td>\n",
              "      <td>0</td>\n",
              "      <td>0</td>\n",
              "      <td>0</td>\n",
              "    </tr>\n",
              "    <tr>\n",
              "      <th>836</th>\n",
              "      <td>https://m.media-amazon.com/images/M/MV5BMTUxMj...</td>\n",
              "      <td>After Hours</td>\n",
              "      <td>1985.0</td>\n",
              "      <td>97.0</td>\n",
              "      <td>An ordinary word processor has the worst night...</td>\n",
              "      <td>90.00000</td>\n",
              "      <td>Martin Scorsese</td>\n",
              "      <td>Griffin Dunne</td>\n",
              "      <td>Rosanna Arquette</td>\n",
              "      <td>Verna Bloom</td>\n",
              "      <td>...</td>\n",
              "      <td>0</td>\n",
              "      <td>0</td>\n",
              "      <td>0</td>\n",
              "      <td>0</td>\n",
              "      <td>0</td>\n",
              "      <td>0</td>\n",
              "      <td>0</td>\n",
              "      <td>0</td>\n",
              "      <td>0</td>\n",
              "      <td>0</td>\n",
              "    </tr>\n",
              "  </tbody>\n",
              "</table>\n",
              "<p>5 rows × 55 columns</p>\n",
              "</div>\n",
              "    <div class=\"colab-df-buttons\">\n",
              "\n",
              "  <div class=\"colab-df-container\">\n",
              "    <button class=\"colab-df-convert\" onclick=\"convertToInteractive('df-4d3cfec7-8fc3-4f36-b4b0-9b4f2f06d0df')\"\n",
              "            title=\"Convert this dataframe to an interactive table.\"\n",
              "            style=\"display:none;\">\n",
              "\n",
              "  <svg xmlns=\"http://www.w3.org/2000/svg\" height=\"24px\" viewBox=\"0 -960 960 960\">\n",
              "    <path d=\"M120-120v-720h720v720H120Zm60-500h600v-160H180v160Zm220 220h160v-160H400v160Zm0 220h160v-160H400v160ZM180-400h160v-160H180v160Zm440 0h160v-160H620v160ZM180-180h160v-160H180v160Zm440 0h160v-160H620v160Z\"/>\n",
              "  </svg>\n",
              "    </button>\n",
              "\n",
              "  <style>\n",
              "    .colab-df-container {\n",
              "      display:flex;\n",
              "      gap: 12px;\n",
              "    }\n",
              "\n",
              "    .colab-df-convert {\n",
              "      background-color: #E8F0FE;\n",
              "      border: none;\n",
              "      border-radius: 50%;\n",
              "      cursor: pointer;\n",
              "      display: none;\n",
              "      fill: #1967D2;\n",
              "      height: 32px;\n",
              "      padding: 0 0 0 0;\n",
              "      width: 32px;\n",
              "    }\n",
              "\n",
              "    .colab-df-convert:hover {\n",
              "      background-color: #E2EBFA;\n",
              "      box-shadow: 0px 1px 2px rgba(60, 64, 67, 0.3), 0px 1px 3px 1px rgba(60, 64, 67, 0.15);\n",
              "      fill: #174EA6;\n",
              "    }\n",
              "\n",
              "    .colab-df-buttons div {\n",
              "      margin-bottom: 4px;\n",
              "    }\n",
              "\n",
              "    [theme=dark] .colab-df-convert {\n",
              "      background-color: #3B4455;\n",
              "      fill: #D2E3FC;\n",
              "    }\n",
              "\n",
              "    [theme=dark] .colab-df-convert:hover {\n",
              "      background-color: #434B5C;\n",
              "      box-shadow: 0px 1px 3px 1px rgba(0, 0, 0, 0.15);\n",
              "      filter: drop-shadow(0px 1px 2px rgba(0, 0, 0, 0.3));\n",
              "      fill: #FFFFFF;\n",
              "    }\n",
              "  </style>\n",
              "\n",
              "    <script>\n",
              "      const buttonEl =\n",
              "        document.querySelector('#df-4d3cfec7-8fc3-4f36-b4b0-9b4f2f06d0df button.colab-df-convert');\n",
              "      buttonEl.style.display =\n",
              "        google.colab.kernel.accessAllowed ? 'block' : 'none';\n",
              "\n",
              "      async function convertToInteractive(key) {\n",
              "        const element = document.querySelector('#df-4d3cfec7-8fc3-4f36-b4b0-9b4f2f06d0df');\n",
              "        const dataTable =\n",
              "          await google.colab.kernel.invokeFunction('convertToInteractive',\n",
              "                                                    [key], {});\n",
              "        if (!dataTable) return;\n",
              "\n",
              "        const docLinkHtml = 'Like what you see? Visit the ' +\n",
              "          '<a target=\"_blank\" href=https://colab.research.google.com/notebooks/data_table.ipynb>data table notebook</a>'\n",
              "          + ' to learn more about interactive tables.';\n",
              "        element.innerHTML = '';\n",
              "        dataTable['output_type'] = 'display_data';\n",
              "        await google.colab.output.renderOutput(dataTable, element);\n",
              "        const docLink = document.createElement('div');\n",
              "        docLink.innerHTML = docLinkHtml;\n",
              "        element.appendChild(docLink);\n",
              "      }\n",
              "    </script>\n",
              "  </div>\n",
              "\n",
              "\n",
              "<div id=\"df-08322f1f-0216-4476-a1a3-a3ae11a1485c\">\n",
              "  <button class=\"colab-df-quickchart\" onclick=\"quickchart('df-08322f1f-0216-4476-a1a3-a3ae11a1485c')\"\n",
              "            title=\"Suggest charts\"\n",
              "            style=\"display:none;\">\n",
              "\n",
              "<svg xmlns=\"http://www.w3.org/2000/svg\" height=\"24px\"viewBox=\"0 0 24 24\"\n",
              "     width=\"24px\">\n",
              "    <g>\n",
              "        <path d=\"M19 3H5c-1.1 0-2 .9-2 2v14c0 1.1.9 2 2 2h14c1.1 0 2-.9 2-2V5c0-1.1-.9-2-2-2zM9 17H7v-7h2v7zm4 0h-2V7h2v10zm4 0h-2v-4h2v4z\"/>\n",
              "    </g>\n",
              "</svg>\n",
              "  </button>\n",
              "\n",
              "<style>\n",
              "  .colab-df-quickchart {\n",
              "      --bg-color: #E8F0FE;\n",
              "      --fill-color: #1967D2;\n",
              "      --hover-bg-color: #E2EBFA;\n",
              "      --hover-fill-color: #174EA6;\n",
              "      --disabled-fill-color: #AAA;\n",
              "      --disabled-bg-color: #DDD;\n",
              "  }\n",
              "\n",
              "  [theme=dark] .colab-df-quickchart {\n",
              "      --bg-color: #3B4455;\n",
              "      --fill-color: #D2E3FC;\n",
              "      --hover-bg-color: #434B5C;\n",
              "      --hover-fill-color: #FFFFFF;\n",
              "      --disabled-bg-color: #3B4455;\n",
              "      --disabled-fill-color: #666;\n",
              "  }\n",
              "\n",
              "  .colab-df-quickchart {\n",
              "    background-color: var(--bg-color);\n",
              "    border: none;\n",
              "    border-radius: 50%;\n",
              "    cursor: pointer;\n",
              "    display: none;\n",
              "    fill: var(--fill-color);\n",
              "    height: 32px;\n",
              "    padding: 0;\n",
              "    width: 32px;\n",
              "  }\n",
              "\n",
              "  .colab-df-quickchart:hover {\n",
              "    background-color: var(--hover-bg-color);\n",
              "    box-shadow: 0 1px 2px rgba(60, 64, 67, 0.3), 0 1px 3px 1px rgba(60, 64, 67, 0.15);\n",
              "    fill: var(--button-hover-fill-color);\n",
              "  }\n",
              "\n",
              "  .colab-df-quickchart-complete:disabled,\n",
              "  .colab-df-quickchart-complete:disabled:hover {\n",
              "    background-color: var(--disabled-bg-color);\n",
              "    fill: var(--disabled-fill-color);\n",
              "    box-shadow: none;\n",
              "  }\n",
              "\n",
              "  .colab-df-spinner {\n",
              "    border: 2px solid var(--fill-color);\n",
              "    border-color: transparent;\n",
              "    border-bottom-color: var(--fill-color);\n",
              "    animation:\n",
              "      spin 1s steps(1) infinite;\n",
              "  }\n",
              "\n",
              "  @keyframes spin {\n",
              "    0% {\n",
              "      border-color: transparent;\n",
              "      border-bottom-color: var(--fill-color);\n",
              "      border-left-color: var(--fill-color);\n",
              "    }\n",
              "    20% {\n",
              "      border-color: transparent;\n",
              "      border-left-color: var(--fill-color);\n",
              "      border-top-color: var(--fill-color);\n",
              "    }\n",
              "    30% {\n",
              "      border-color: transparent;\n",
              "      border-left-color: var(--fill-color);\n",
              "      border-top-color: var(--fill-color);\n",
              "      border-right-color: var(--fill-color);\n",
              "    }\n",
              "    40% {\n",
              "      border-color: transparent;\n",
              "      border-right-color: var(--fill-color);\n",
              "      border-top-color: var(--fill-color);\n",
              "    }\n",
              "    60% {\n",
              "      border-color: transparent;\n",
              "      border-right-color: var(--fill-color);\n",
              "    }\n",
              "    80% {\n",
              "      border-color: transparent;\n",
              "      border-right-color: var(--fill-color);\n",
              "      border-bottom-color: var(--fill-color);\n",
              "    }\n",
              "    90% {\n",
              "      border-color: transparent;\n",
              "      border-bottom-color: var(--fill-color);\n",
              "    }\n",
              "  }\n",
              "</style>\n",
              "\n",
              "  <script>\n",
              "    async function quickchart(key) {\n",
              "      const quickchartButtonEl =\n",
              "        document.querySelector('#' + key + ' button');\n",
              "      quickchartButtonEl.disabled = true;  // To prevent multiple clicks.\n",
              "      quickchartButtonEl.classList.add('colab-df-spinner');\n",
              "      try {\n",
              "        const charts = await google.colab.kernel.invokeFunction(\n",
              "            'suggestCharts', [key], {});\n",
              "      } catch (error) {\n",
              "        console.error('Error during call to suggestCharts:', error);\n",
              "      }\n",
              "      quickchartButtonEl.classList.remove('colab-df-spinner');\n",
              "      quickchartButtonEl.classList.add('colab-df-quickchart-complete');\n",
              "    }\n",
              "    (() => {\n",
              "      let quickchartButtonEl =\n",
              "        document.querySelector('#df-08322f1f-0216-4476-a1a3-a3ae11a1485c button');\n",
              "      quickchartButtonEl.style.display =\n",
              "        google.colab.kernel.accessAllowed ? 'block' : 'none';\n",
              "    })();\n",
              "  </script>\n",
              "</div>\n",
              "\n",
              "    </div>\n",
              "  </div>\n"
            ],
            "application/vnd.google.colaboratory.intrinsic+json": {
              "type": "dataframe",
              "variable_name": "X_train"
            }
          },
          "metadata": {},
          "execution_count": 27
        }
      ]
    },
    {
      "cell_type": "code",
      "source": [
        "# Check the lengths of X_train and y_train\n",
        "print(f\"X_train shape: {X_train.shape[0]}, y_train shape: {len(y_train)}\")\n"
      ],
      "metadata": {
        "colab": {
          "base_uri": "https://localhost:8080/"
        },
        "id": "bviDy7951IfF",
        "outputId": "119a7da1-6afd-4b9c-ef93-719efa955b02"
      },
      "execution_count": 28,
      "outputs": [
        {
          "output_type": "stream",
          "name": "stdout",
          "text": [
            "X_train shape: 800, y_train shape: 800\n"
          ]
        }
      ]
    },
    {
      "cell_type": "code",
      "source": [
        "# Inspect the data types of your features\n",
        "print(X_train.dtypes)\n"
      ],
      "metadata": {
        "colab": {
          "base_uri": "https://localhost:8080/"
        },
        "id": "VFaW1T2y1LXF",
        "outputId": "f329399f-fa3c-4796-d442-9ef4d6a11afa"
      },
      "execution_count": 29,
      "outputs": [
        {
          "output_type": "stream",
          "name": "stdout",
          "text": [
            "Poster_Link       object\n",
            "Series_Title      object\n",
            "Released_Year    float64\n",
            "Runtime          float64\n",
            "Overview          object\n",
            "Meta_score       float64\n",
            "Director          object\n",
            "Star1             object\n",
            "Star2             object\n",
            "Star3             object\n",
            "Star4             object\n",
            "No_of_Votes        int64\n",
            "Gross             object\n",
            "Action             int64\n",
            "Adventure          int64\n",
            "Animation          int64\n",
            "Biography          int64\n",
            "Comedy             int64\n",
            "Crime              int64\n",
            "Drama              int64\n",
            "Family             int64\n",
            "Fantasy            int64\n",
            "Film-Noir          int64\n",
            "History            int64\n",
            "Horror             int64\n",
            "Music              int64\n",
            "Musical            int64\n",
            "Mystery            int64\n",
            "Romance            int64\n",
            "Sci-Fi             int64\n",
            "Sport              int64\n",
            "Thriller           int64\n",
            "War                int64\n",
            "Western            int64\n",
            "Action             int64\n",
            "Adventure          int64\n",
            "Animation          int64\n",
            "Biography          int64\n",
            "Comedy             int64\n",
            "Crime              int64\n",
            "Drama              int64\n",
            "Family             int64\n",
            "Fantasy            int64\n",
            "Film-Noir          int64\n",
            "History            int64\n",
            "Horror             int64\n",
            "Music              int64\n",
            "Musical            int64\n",
            "Mystery            int64\n",
            "Romance            int64\n",
            "Sci-Fi             int64\n",
            "Sport              int64\n",
            "Thriller           int64\n",
            "War                int64\n",
            "Western            int64\n",
            "dtype: object\n"
          ]
        }
      ]
    },
    {
      "cell_type": "code",
      "source": [
        "# Check for missing values in X_train and y_train\n",
        "print(X_train.isnull().sum())\n",
        "print(pd.Series(y_train).isnull().sum())\n"
      ],
      "metadata": {
        "colab": {
          "base_uri": "https://localhost:8080/"
        },
        "id": "VOCxMKXE1QbE",
        "outputId": "d3d04d49-7b13-4a52-b9f8-bfabe9df6821"
      },
      "execution_count": 30,
      "outputs": [
        {
          "output_type": "stream",
          "name": "stdout",
          "text": [
            "Poster_Link      0\n",
            "Series_Title     0\n",
            "Released_Year    1\n",
            "Runtime          0\n",
            "Overview         0\n",
            "Meta_score       0\n",
            "Director         0\n",
            "Star1            0\n",
            "Star2            0\n",
            "Star3            0\n",
            "Star4            0\n",
            "No_of_Votes      0\n",
            "Gross            0\n",
            "Action           0\n",
            "Adventure        0\n",
            "Animation        0\n",
            "Biography        0\n",
            "Comedy           0\n",
            "Crime            0\n",
            "Drama            0\n",
            "Family           0\n",
            "Fantasy          0\n",
            "Film-Noir        0\n",
            "History          0\n",
            "Horror           0\n",
            "Music            0\n",
            "Musical          0\n",
            "Mystery          0\n",
            "Romance          0\n",
            "Sci-Fi           0\n",
            "Sport            0\n",
            "Thriller         0\n",
            "War              0\n",
            "Western          0\n",
            "Action           0\n",
            "Adventure        0\n",
            "Animation        0\n",
            "Biography        0\n",
            "Comedy           0\n",
            "Crime            0\n",
            "Drama            0\n",
            "Family           0\n",
            "Fantasy          0\n",
            "Film-Noir        0\n",
            "History          0\n",
            "Horror           0\n",
            "Music            0\n",
            "Musical          0\n",
            "Mystery          0\n",
            "Romance          0\n",
            "Sci-Fi           0\n",
            "Sport            0\n",
            "Thriller         0\n",
            "War              0\n",
            "Western          0\n",
            "dtype: int64\n",
            "0\n"
          ]
        }
      ]
    },
    {
      "cell_type": "code",
      "source": [
        "# Fill missing values in 'Released_Year' with the mode (most frequent value)\n",
        "df_imdb['Released_Year'] = df_imdb['Released_Year'].fillna(df_imdb['Released_Year'].mode()[0])\n"
      ],
      "metadata": {
        "id": "B9LCo8ic1Xfp"
      },
      "execution_count": 32,
      "outputs": []
    },
    {
      "cell_type": "code",
      "source": [
        "print(df_imdb.isnull().sum())\n"
      ],
      "metadata": {
        "colab": {
          "base_uri": "https://localhost:8080/"
        },
        "id": "z8oz05J41i_E",
        "outputId": "33e591ed-4635-48bd-f21a-6066fe2df40e"
      },
      "execution_count": 33,
      "outputs": [
        {
          "output_type": "stream",
          "name": "stdout",
          "text": [
            "Poster_Link      0\n",
            "Series_Title     0\n",
            "Released_Year    0\n",
            "Runtime          0\n",
            "IMDB_Rating      0\n",
            "Overview         0\n",
            "Meta_score       0\n",
            "Director         0\n",
            "Star1            0\n",
            "Star2            0\n",
            "Star3            0\n",
            "Star4            0\n",
            "No_of_Votes      0\n",
            "Gross            0\n",
            "Action           0\n",
            "Adventure        0\n",
            "Animation        0\n",
            "Biography        0\n",
            "Comedy           0\n",
            "Crime            0\n",
            "Drama            0\n",
            "Family           0\n",
            "Fantasy          0\n",
            "Film-Noir        0\n",
            "History          0\n",
            "Horror           0\n",
            "Music            0\n",
            "Musical          0\n",
            "Mystery          0\n",
            "Romance          0\n",
            "Sci-Fi           0\n",
            "Sport            0\n",
            "Thriller         0\n",
            "War              0\n",
            "Western          0\n",
            "Action           0\n",
            "Adventure        0\n",
            "Animation        0\n",
            "Biography        0\n",
            "Comedy           0\n",
            "Crime            0\n",
            "Drama            0\n",
            "Family           0\n",
            "Fantasy          0\n",
            "Film-Noir        0\n",
            "History          0\n",
            "Horror           0\n",
            "Music            0\n",
            "Musical          0\n",
            "Mystery          0\n",
            "Romance          0\n",
            "Sci-Fi           0\n",
            "Sport            0\n",
            "Thriller         0\n",
            "War              0\n",
            "Western          0\n",
            "dtype: int64\n"
          ]
        }
      ]
    },
    {
      "cell_type": "code",
      "source": [
        "# Step 2: Handle missing values for numeric columns\n",
        "X_numeric = X.select_dtypes(include=['float64', 'int64'])  # Select numeric columns\n",
        "X[X_numeric.columns] = X_numeric.fillna(X_numeric.mean())  # Fill missing values with the mean of each column\n"
      ],
      "metadata": {
        "id": "pRHjH1c712pZ"
      },
      "execution_count": 38,
      "outputs": []
    },
    {
      "cell_type": "code",
      "source": [
        "# Check the column names in X\n",
        "print(X.columns)\n"
      ],
      "metadata": {
        "colab": {
          "base_uri": "https://localhost:8080/"
        },
        "id": "V926PiwU207H",
        "outputId": "70e27d19-94f4-4863-8203-a48cb35cebce"
      },
      "execution_count": 41,
      "outputs": [
        {
          "output_type": "stream",
          "name": "stdout",
          "text": [
            "Index(['Released_Year', 'Runtime', 'Genre', 'Meta_score', 'No_of_Votes',\n",
            "       'Action', 'Adventure', 'Animation', 'Biography', 'Comedy', 'Crime',\n",
            "       'Drama', 'Family', 'Fantasy', 'Film-Noir', 'History', 'Horror', 'Music',\n",
            "       'Musical', 'Mystery', 'Romance', 'Sci-Fi', 'Sport', 'Thriller', 'War',\n",
            "       'Western', 'Certificate_16', 'Certificate_A', 'Certificate_Approved',\n",
            "       'Certificate_G', 'Certificate_GP', 'Certificate_Not Available',\n",
            "       'Certificate_PG', 'Certificate_PG-13', 'Certificate_Passed',\n",
            "       'Certificate_R', 'Certificate_TV-14', 'Certificate_TV-MA',\n",
            "       'Certificate_TV-PG', 'Certificate_U', 'Certificate_U/A',\n",
            "       'Certificate_UA', 'Certificate_Unrated'],\n",
            "      dtype='object')\n"
          ]
        }
      ]
    },
    {
      "cell_type": "code",
      "source": [
        "# Drop columns that are not useful\n",
        "columns_to_drop = ['Released_Year', 'Certificate_16', 'Certificate_A', 'Certificate_Approved',\n",
        "                  'Certificate_G', 'Certificate_GP', 'Certificate_Not Available',\n",
        "                  'Certificate_PG', 'Certificate_PG-13', 'Certificate_Passed',\n",
        "                  'Certificate_R', 'Certificate_TV-14', 'Certificate_TV-MA',\n",
        "                  'Certificate_TV-PG', 'Certificate_U', 'Certificate_U/A', 'Certificate_UA',\n",
        "                  'Certificate_Unrated']\n",
        "X = X.drop(columns=columns_to_drop, axis=1)\n"
      ],
      "metadata": {
        "id": "Yfjoo11u28Up"
      },
      "execution_count": 42,
      "outputs": []
    },
    {
      "cell_type": "code",
      "source": [
        "# One-hot encode 'Genre' column\n",
        "X = pd.get_dummies(X, columns=['Genre'], drop_first=True)\n"
      ],
      "metadata": {
        "id": "8I8X6YNR2--E"
      },
      "execution_count": 43,
      "outputs": []
    },
    {
      "cell_type": "code",
      "source": [
        "from sklearn.preprocessing import StandardScaler\n",
        "\n",
        "# Scale the features\n",
        "scaler = StandardScaler()\n",
        "X_scaled = scaler.fit_transform(X)\n"
      ],
      "metadata": {
        "id": "3HkoNgeF3DBH"
      },
      "execution_count": 44,
      "outputs": []
    },
    {
      "cell_type": "code",
      "source": [
        "print(\"X shape:\", X.shape)\n",
        "print(\"y shape:\", y.shape)\n"
      ],
      "metadata": {
        "colab": {
          "base_uri": "https://localhost:8080/"
        },
        "id": "TF8rS45W3F6u",
        "outputId": "34168bb8-7233-4881-9ec0-971be17e522d"
      },
      "execution_count": 46,
      "outputs": [
        {
          "output_type": "stream",
          "name": "stdout",
          "text": [
            "X shape: (1000, 225)\n",
            "y shape: (1000,)\n"
          ]
        }
      ]
    },
    {
      "cell_type": "code",
      "source": [
        "# Split the data into training and test sets (80% training, 20% testing)\n",
        "X_train, X_test, y_train, y_test = train_test_split(X, y, test_size=0.2, random_state=42)\n",
        "\n",
        "print(\"X_train shape:\", X_train.shape)\n",
        "print(\"y_train shape:\", y_train.shape)\n"
      ],
      "metadata": {
        "colab": {
          "base_uri": "https://localhost:8080/"
        },
        "id": "AKlpyQ253VLs",
        "outputId": "cf9293b4-945d-4ab3-b4b9-4cd6edc4dac0"
      },
      "execution_count": 47,
      "outputs": [
        {
          "output_type": "stream",
          "name": "stdout",
          "text": [
            "X_train shape: (800, 225)\n",
            "y_train shape: (800,)\n"
          ]
        }
      ]
    },
    {
      "cell_type": "code",
      "source": [
        "from sklearn.svm import SVC\n",
        "from sklearn.metrics import classification_report, accuracy_score\n"
      ],
      "metadata": {
        "id": "dl_HMXiJ3dCR"
      },
      "execution_count": 48,
      "outputs": []
    },
    {
      "cell_type": "code",
      "source": [
        "from sklearn.svm import SVR\n",
        "from sklearn.metrics import mean_squared_error, r2_score\n",
        "\n",
        "# Train the SVM regressor\n",
        "svr_model = SVR(kernel='linear')  # You can experiment with other kernels\n",
        "svr_model.fit(X_train, y_train)\n",
        "\n",
        "# Predict on the test set\n",
        "y_pred = svr_model.predict(X_test)\n",
        "\n",
        "# Evaluate the model\n",
        "print(\"Mean Squared Error:\", mean_squared_error(y_test, y_pred))\n",
        "print(\"R^2 Score:\", r2_score(y_test, y_pred))\n"
      ],
      "metadata": {
        "colab": {
          "base_uri": "https://localhost:8080/"
        },
        "id": "Elrn4P4i3fqz",
        "outputId": "d488ec04-89b0-444e-8a98-811fa0b880ff"
      },
      "execution_count": 50,
      "outputs": [
        {
          "output_type": "stream",
          "name": "stdout",
          "text": [
            "Mean Squared Error: 40081034.263507515\n",
            "R^2 Score: -625250127.9078294\n"
          ]
        }
      ]
    },
    {
      "cell_type": "code",
      "source": [
        "from sklearn.ensemble import RandomForestRegressor\n",
        "\n",
        "rf_model = RandomForestRegressor(n_estimators=100, random_state=42)\n",
        "rf_model.fit(X_train, y_train)\n",
        "\n",
        "# Predict and evaluate\n",
        "y_pred_rf = rf_model.predict(X_test)\n",
        "print(\"Random Forest Mean Squared Error:\", mean_squared_error(y_test, y_pred_rf))\n",
        "print(\"Random Forest R^2 Score:\", r2_score(y_test, y_pred_rf))\n"
      ],
      "metadata": {
        "colab": {
          "base_uri": "https://localhost:8080/"
        },
        "id": "0Il3Xtqq5KQK",
        "outputId": "e73367be-194d-4f0b-d1e0-d5e4fee54c27"
      },
      "execution_count": 51,
      "outputs": [
        {
          "output_type": "stream",
          "name": "stdout",
          "text": [
            "Random Forest Mean Squared Error: 0.042742520000000075\n",
            "Random Forest R^2 Score: 0.33323162361163017\n"
          ]
        }
      ]
    },
    {
      "cell_type": "code",
      "source": [
        "# Assuming you have already created the scaler (scaler = StandardScaler())\n",
        "X_test_scaled = scaler.transform(X_test)\n"
      ],
      "metadata": {
        "id": "1CmRsYWr5VVB"
      },
      "execution_count": 53,
      "outputs": []
    },
    {
      "cell_type": "code",
      "source": [
        "y_pred = svr_model.predict(X_test_scaled)\n"
      ],
      "metadata": {
        "colab": {
          "base_uri": "https://localhost:8080/"
        },
        "id": "Sx5yaiIp5gOq",
        "outputId": "05f4e342-d40c-45c4-a613-5aefa959ac01"
      },
      "execution_count": 54,
      "outputs": [
        {
          "output_type": "stream",
          "name": "stderr",
          "text": [
            "/usr/local/lib/python3.10/dist-packages/sklearn/base.py:493: UserWarning: X does not have valid feature names, but SVR was fitted with feature names\n",
            "  warnings.warn(\n"
          ]
        }
      ]
    },
    {
      "cell_type": "code",
      "source": [
        "import matplotlib.pyplot as plt\n",
        "import seaborn as sns\n",
        "\n",
        "# Plotting Actual vs Predicted values\n",
        "plt.figure(figsize=(10, 6))\n",
        "sns.scatterplot(x=y_test, y=y_pred, color='blue', label='Predictions', alpha=0.7)\n",
        "\n",
        "# Plot the line of perfect predictions (y = x)\n",
        "plt.plot([min(y_test), max(y_test)], [min(y_test), max(y_test)], color='red', linestyle='--', label='Perfect Prediction Line')\n",
        "\n",
        "# Labels and Title\n",
        "plt.title('SVR Model: Actual vs Predicted Values', fontsize=16)\n",
        "plt.xlabel('Actual Values', fontsize=14)\n",
        "plt.ylabel('Predicted Values', fontsize=14)\n",
        "\n",
        "# Display the plot\n",
        "plt.legend()\n",
        "plt.show()\n"
      ],
      "metadata": {
        "colab": {
          "base_uri": "https://localhost:8080/",
          "height": 571
        },
        "id": "ofe4G-lD5itx",
        "outputId": "74eaf1f8-4823-4053-80c8-61569582cc99"
      },
      "execution_count": 55,
      "outputs": [
        {
          "output_type": "display_data",
          "data": {
            "text/plain": [
              "<Figure size 1000x600 with 1 Axes>"
            ],
            "image/png": "[encoded data removed]"
          },
          "metadata": {}
        }
      ]
    }
  ]
}